{
  "nbformat": 4,
  "nbformat_minor": 0,
  "metadata": {
    "kernelspec": {
      "display_name": "Python 3",
      "language": "python",
      "name": "python3"
    },
    "language_info": {
      "codemirror_mode": {
        "name": "ipython",
        "version": 3
      },
      "file_extension": ".py",
      "mimetype": "text/x-python",
      "name": "python",
      "nbconvert_exporter": "python",
      "pygments_lexer": "ipython3",
      "version": "3.7.6"
    },
    "colab": {
      "provenance": [],
      "include_colab_link": true
    }
  },
  "cells": [
    {
      "cell_type": "markdown",
      "metadata": {
        "id": "view-in-github",
        "colab_type": "text"
      },
      "source": [
        "<a href=\"https://colab.research.google.com/github/tobenson21/Data_Enginner/blob/main/tarea_1.ipynb\" target=\"_parent\"><img src=\"https://colab.research.google.com/assets/colab-badge.svg\" alt=\"Open In Colab\"/></a>"
      ]
    },
    {
      "cell_type": "markdown",
      "metadata": {
        "id": "-PuoEZXT1WAK"
      },
      "source": [
        "<table>\n",
        "  <tr>\n",
        "    <td><h1 style=\"text-align:center\">Módulo 2</h1><h1>Introducción a la programación y al preprocesamiento de datos</h1>\n",
        "      <h2>Parte 1</h2></td>\n",
        "    <td><img src=\"https://usach.cl/sites/default/files/logo_usach.jpg\" align=\"right\"></td>\n",
        "  </tr>\n",
        "</table>"
      ]
    },
    {
      "cell_type": "markdown",
      "metadata": {
        "id": "QFLV0y6Z1WAL"
      },
      "source": [
        "\n",
        "\n",
        "<h3 id=\"exer_exp_var\">Ejercicios -  Enviar en un nuevo Colab Notebook, formato nombre <strong>nombre_apellido</strong> y <strong>compartirlo</strong> al email mauricio.lopez@usach.cl  </h3>"
      ]
    },
    {
      "cell_type": "markdown",
      "metadata": {
        "id": "jbjb-jeKw3G3"
      },
      "source": [
        "## **1. Mensaje Encriptado**\n",
        "\n",
        "### **1.1. Enunciado**\n",
        "\n",
        "Se han recuperado 6 fragmentos de un mensaje encriptado perteneciente a Alan Turing *(1912 - 1954)*, padre de la computación moderna.\n",
        "\n",
        "Los fragmentos son:\n",
        "\n",
        "<br>\n",
        "\n",
        "* $1x97&C1x111MP0x177T0x0-1x101R&0x0-W1x1110x0-0x177LD&D$\n",
        "* $1x1010x0-S1x1010x0-RV0x0-1x101&T1x111&B0x0-1x101&C1x97LL0x0-$\n",
        "* $1x101D&0x105NT1x101LL0x0-0x105G1x101NT&0x1050x0-F&0x105T&0x0-$\n",
        "* $C0x0-1x1110x1770x0-LD0x0-&D0x0-1x101C1x1010x0-0x105V1x1010x0-&1x97&H$\n",
        "* $0x1770x0-M1x97N&0x105NT0x0-1x111&B0x0-1x101L0x0-0x1051x1010x0-V0x105$\n",
        "* $NG&T0x0-H1x97T0x0-&0x105T0x0-&W0x0-1x97S&0x0-H0x177M0x0-1x97N$\n",
        "\n",
        "<br>\n",
        "\n",
        "Estos fragmentos han sido asignados a variables de tipo cadena de caracteres:\n",
        "\n",
        "```python\n",
        "frag1 = \"1x97&C1x111MP0x177T0x0-1x101R&0x0-W1x1110x0-0x177LD&D\"\n",
        "frag2 = \"1x1010x0-S1x1010x0-RV0x0-1x101&T1x111&B0x0-1x101&C1x97LL0x0-\"\n",
        "frag3 = \"1x101D&0x105NT1x101LL0x0-0x105G1x101NT&0x1050x0-F&0x105T&0x0-\"\n",
        "frag4 = \"C0x0-1x1110x1770x0-LD0x0-&D0x0-1x101C1x1010x0-0x105V1x1010x0-&1x97&H\"\n",
        "frag5 = \"0x1770x0-M1x97N&0x105NT0x0-1x111&B0x0-1x101L0x0-0x1051x1010x0-V0x105\"\n",
        "frag6 = \"NG&T0x0-H1x97T0x0-&0x105T0x0-&W0x0-1x97S&0x0-H0x177M0x0-1x97N\"\n",
        "```\n",
        "\n",
        "<br>\n",
        "\n",
        "\n",
        "Para nuestra fortuna, disponemos de la clave de cifrado necesaria para revelar el mensaje:\n",
        "\n",
        "<br>\n",
        "\n",
        "| a    | e     | i     | o     | u     |\n",
        "|------|-------|-------|-------|-------|\n",
        "| 1x97 | 1x101 | 0x105 | 1x111 | 0x177 |\n",
        "\n",
        "<br>\n",
        "\n",
        "Ademas sabemos que el codigo **0x0-** corresponde a ruido, por lo cual debe ser removido, y que el espaciado esta representado por el caracter **&**.\n",
        "\n",
        "<br>\n",
        "\n",
        "### **1.2. Resolver**\n",
        "\n",
        "* Debido a que el mensaje se encuentra fragmentado, debe unir los fragmentos en una sola cadena de caracteres.\n",
        "\n",
        "* Identifique y remplace las vocales de acuerdo a la clave de cifrado entregada.\n",
        "\n",
        "* Remueva el codigo de ruido e inserte los espacios segun corresponda.\n",
        "\n",
        "* Edite el formato del texto, transformando las mayusculas a minusculas, y capitalizando la primera letra del mensaje.\n",
        "\n",
        "* Imprima el mensaje cifrado.\n",
        "<br>\n",
        "<hr/>\n",
        "<div class=\"alert alert-success alertsuccess\" style=\"margin-top: 20px\">\n",
        "    [Tip 1:] Utilize la funcion print() para vizualizar el avance de su resultado.\n",
        "</div>\n",
        "<hr/>"
      ]
    },
    {
      "cell_type": "code",
      "metadata": {
        "id": "zPcXRTqgkl8D",
        "colab": {
          "base_uri": "https://localhost:8080/",
          "height": 70
        },
        "outputId": "6b54532a-6292-4380-e785-b40e5c307b3b"
      },
      "source": [
        "#Unir los fragmentos\n",
        "#SU CODIGO AQUÍ\n",
        "frag1 = \"1x97&C1x111MP0x177T0x0-1x101R&0x0-W1x1110x0-0x177LD&D\"\n",
        "frag2 = \"1x1010x0-S1x1010x0-RV0x0-1x101&T1x111&B0x0-1x101&C1x97LL0x0-\"\n",
        "frag3 = \"1x101D&0x105NT1x101LL0x0-0x105G1x101NT&0x1050x0-F&0x105T&0x0-\"\n",
        "frag4 = \"C0x0-1x1110x1770x0-LD0x0-&D0x0-1x101C1x1010x0-0x105V1x1010x0-&1x97&H\"\n",
        "frag5 = \"0x1770x0-M1x97N&0x105NT0x0-1x111&B0x0-1x101L0x0-0x1051x1010x0-V0x105\"\n",
        "frag6 = \"NG&T0x0-H1x97T0x0-&0x105T0x0-&W0x0-1x97S&0x0-H0x177M0x0-1x97N\"\n",
        "\n",
        "fragmentos_unidos = frag1 + frag2 + frag3 + frag4 + frag5 + frag6\n",
        "fragmentos_unidos\n"
      ],
      "execution_count": null,
      "outputs": [
        {
          "output_type": "execute_result",
          "data": {
            "text/plain": [
              "'1x97&C1x111MP0x177T0x0-1x101R&0x0-W1x1110x0-0x177LD&D1x1010x0-S1x1010x0-RV0x0-1x101&T1x111&B0x0-1x101&C1x97LL0x0-1x101D&0x105NT1x101LL0x0-0x105G1x101NT&0x1050x0-F&0x105T&0x0-C0x0-1x1110x1770x0-LD0x0-&D0x0-1x101C1x1010x0-0x105V1x1010x0-&1x97&H0x1770x0-M1x97N&0x105NT0x0-1x111&B0x0-1x101L0x0-0x1051x1010x0-V0x105NG&T0x0-H1x97T0x0-&0x105T0x0-&W0x0-1x97S&0x0-H0x177M0x0-1x97N'"
            ],
            "application/vnd.google.colaboratory.intrinsic+json": {
              "type": "string"
            }
          },
          "metadata": {},
          "execution_count": 2
        }
      ]
    },
    {
      "cell_type": "code",
      "metadata": {
        "id": "L7yRe60W1wOb",
        "colab": {
          "base_uri": "https://localhost:8080/",
          "height": 36
        },
        "outputId": "20184223-6574-4a03-cfa8-968958948783"
      },
      "source": [
        "#Reemplazar vocales según clave de cifrado\n",
        "#SU CODIGO AQUÍ\n",
        "fragmentos_unidos = fragmentos_unidos.replace('1x97', 'a').replace('1x101', 'e').replace('0x105', 'i').replace('1x111', 'o').replace('0x177', 'u')\n",
        "\n",
        "\n",
        "#Remover ruido y agregar espacios\n",
        "#SU CODIGO AQUÍ\n",
        "fragmentos_unidos = fragmentos_unidos.replace('0x0-', '').replace('&', ' ')\n",
        "fragmentos_unidos\n",
        "\n",
        "#Transformar Mayúsculas, minúsculas y capitalizar primera letra\n",
        "#SU CODIGO AQUÍ\n",
        "fragmentos_unidos = fragmentos_unidos.lower().capitalize()\n",
        "\n",
        "\n",
        "\n"
      ],
      "execution_count": null,
      "outputs": [
        {
          "output_type": "execute_result",
          "data": {
            "text/plain": [
              "'A computer would deserve to be called intelligent if it could deceive a human into believing that it was human'"
            ],
            "application/vnd.google.colaboratory.intrinsic+json": {
              "type": "string"
            }
          },
          "metadata": {},
          "execution_count": 10
        }
      ]
    },
    {
      "cell_type": "code",
      "source": [
        "#Imprimir mensaje cifrado\n",
        "#SU CODIGO AQUÍ\n",
        "fragmentos_unidos\n"
      ],
      "metadata": {
        "id": "TiNiFy0WHmKf",
        "colab": {
          "base_uri": "https://localhost:8080/",
          "height": 36
        },
        "outputId": "007d7994-9594-4fe1-dbd6-6f536468ee68"
      },
      "execution_count": null,
      "outputs": [
        {
          "output_type": "execute_result",
          "data": {
            "text/plain": [
              "'A computer would deserve to be called intelligent if it could deceive a human into believing that it was human'"
            ],
            "application/vnd.google.colaboratory.intrinsic+json": {
              "type": "string"
            }
          },
          "metadata": {},
          "execution_count": 11
        }
      ]
    },
    {
      "cell_type": "markdown",
      "metadata": {
        "id": "uUYGSdBs1YIr"
      },
      "source": [
        "## **2. Calcular estadísticos descriptivos**\n",
        "\n",
        "<br>\n",
        "\n",
        "#### **2.1. Definiciones:**\n",
        "\n",
        "<br>\n",
        "\n",
        "* **Media Aritmetica**: Permite describir la muestra con un solo valor que representa el centro de los datos. Se define como:\n",
        "\n",
        "$$\\bar{X} = \\frac{1}{n}{\\sum_{i=1}^{n}{x_i}}$$\n",
        "\n",
        "* **Varianza**: Mide qué tan dispersos están los datos alrededor de su media. Se define como:\n",
        "\n",
        "$$S^2 = \\frac{1}{n}{\\sum_{i=0}^{n-1}{(x_i - \\bar{X})^2}}$$\n",
        "\n",
        "* **Desviación Estandar**: Indica qué tan dispersos están los datos alrededor de la media. Utiliza la misma unidad que los datos, por lo que es más sencilla de interpretar que la Varianza. Se define como:\n",
        "\n",
        "$$S = \\sqrt{\\frac{1}{n}{\\sum_{i=0}^{n-1}{(x_i - \\bar{X})^2}}}$$\n",
        "\n",
        "<br>\n",
        "\n",
        "#### **2.2. Resolver:**\n",
        "\n",
        "<br>\n",
        "\n",
        "Calcule los estadísticos descriptivos:\n",
        "\n",
        "* Media aritmetica\n",
        "* Varianza\n",
        "* Desviación Estandar\n",
        "\n",
        "para el siguiente conjunto de datos:\n",
        "\n",
        "<br>\n",
        "\n",
        "$$X = (3, 5, 2, 7, 1, 3)$$\n",
        "\n",
        "<br>\n",
        "\n",
        "Para esto debe utilizar **solamente** los operadores aritméticos de python.\n",
        "\n",
        "<br>\n",
        "\n",
        "\n",
        "<hr/>\n",
        "<div class=\"alert alert-success alertsuccess\" style=\"margin-top: 20px\">\n",
        "    [Tip 1:] Recuerde que: $\\sqrt[n]{a^m} = a^{\\frac{m}{n}}$,  tal que $m, n \\in N (n \\geq 2) \\wedge a > 0$\n",
        "</div>\n",
        "<hr/>\n",
        "\n",
        "\n",
        "<hr/>\n",
        "<div class=\"alert alert-success alertsuccess\" style=\"margin-top: 20px\">\n",
        "    [Tip 2:] Recuerde que si $x = (1,2,3,...,n)$ entonces $\\sum_{i=1}^{n}{x_i} = (1+2+3+...+n)$\n",
        "</div>\n",
        "<hr/>"
      ]
    },
    {
      "cell_type": "code",
      "metadata": {
        "id": "2bj0ZIIZ1fFU",
        "colab": {
          "base_uri": "https://localhost:8080/"
        },
        "outputId": "35d475eb-8873-4447-e3b6-7daf20b766ba"
      },
      "source": [
        "#Asignar variable \"n\" como tamaño de muestra\n",
        "n = 6\n",
        "\n",
        "#Calcular la media aritmetica\n",
        "media_aritmetica = (3 + 5 + 2 + 7 + 1 + 3) / n\n",
        "\n",
        "#Calcular la suma de desviaciones al cuadrado\n",
        "\n",
        "#Calcular la desviacion estandar\n",
        "desviacion_estandar = ((((3 - media_aritmetica)**2) + ((5 - media_aritmetica)**2) + ((2 - media_aritmetica)**2) + ((7 - media_aritmetica)**2) + ((1 - media_aritmetica)**2) + ((3 - media_aritmetica)**2)) / (n - 1)) ** 0.5\n",
        "\n",
        "#Calcular la varianza\n",
        "varianza = (((3 - media_aritmetica)**2) + ((5 - media_aritmetica)**2) + ((2 - media_aritmetica)**2) + ((7 - media_aritmetica)**2) + ((1 - media_aritmetica)**2) + ((3 - media_aritmetica)**2)) / (n - 1)\n",
        "\n",
        "\n",
        "#Calcular la deviacion estandar utilizando la definición de raiz cuadrada como potencia.\n",
        "\n",
        "\n",
        "#Imprimir resultados con la función print()\n",
        "media_aritmetica\n",
        "desviacion_estandar\n",
        "varianza\n"
      ],
      "execution_count": null,
      "outputs": [
        {
          "output_type": "execute_result",
          "data": {
            "text/plain": [
              "4.7"
            ]
          },
          "metadata": {},
          "execution_count": 1
        }
      ]
    }
  ]
}