{
  "nbformat": 4,
  "nbformat_minor": 0,
  "metadata": {
    "kernelspec": {
      "display_name": "Python 3",
      "language": "python",
      "name": "python3"
    },
    "language_info": {
      "codemirror_mode": {
        "name": "ipython",
        "version": 3
      },
      "file_extension": ".py",
      "mimetype": "text/x-python",
      "name": "python",
      "nbconvert_exporter": "python",
      "pygments_lexer": "ipython3",
      "version": "3.7.6"
    },
    "colab": {
      "provenance": [],
      "include_colab_link": true
    }
  },
  "cells": [
    {
      "cell_type": "markdown",
      "metadata": {
        "id": "view-in-github",
        "colab_type": "text"
      },
      "source": [
        "<a href=\"https://colab.research.google.com/github/tobenson21/Data_Enginner/blob/main/tarea_2.ipynb\" target=\"_parent\"><img src=\"https://colab.research.google.com/assets/colab-badge.svg\" alt=\"Open In Colab\"/></a>"
      ]
    },
    {
      "cell_type": "markdown",
      "metadata": {
        "id": "YJqDWSE1-_VC"
      },
      "source": [
        "\n",
        "<table>\n",
        "  <tr>\n",
        "    <td><h1 style=\"text-align:center\">Módulo 2</h1><h1>Introducción a la programación y al preprocesamiento de datos</h1>\n",
        "    <td><img src=\"https://usach.cl/sites/default/files/logo_usach.jpg\" align=\"right\"></td>\n",
        "  </tr>\n",
        "</table>"
      ]
    },
    {
      "cell_type": "markdown",
      "metadata": {
        "id": "eRH88KEs-_Xk"
      },
      "source": [
        "\n",
        "\n",
        "<h2 id=\"exer_exp_var\">Tarea 2 -  Enviar en un nuevo Colab Notebook con nombre y apellido</h2>"
      ]
    },
    {
      "cell_type": "markdown",
      "metadata": {
        "id": "6ByUVvu3-_Xm"
      },
      "source": [
        "<h3>1. Modificar la función área</h3>\n",
        "\n",
        "Modificar la función vista en la clase para que pueda calcular el área, no solo del rectángulo, sino que además del triángulo y del círculo.\n",
        "\n",
        "Hint: Considerar que la función recibirá los parámetros para calcular el área de la figura y además el tipo de figura. Ejemplo: <code> area(base=22, altura=30, tipo=\"Rectángulo\") </code>\n",
        "\n",
        "Incluir el caso cuando el **tipo** no corresponda a los antes mencionados.\n",
        "\n",
        "\n",
        "\n"
      ]
    },
    {
      "cell_type": "code",
      "metadata": {
        "id": "xLsdpLC6jOTs",
        "colab": {
          "base_uri": "https://localhost:8080/"
        },
        "outputId": "34df32bd-96a5-4c02-8c0c-c96e22a11e46"
      },
      "source": [
        "## Solo necesitamos una función para cumplir con la tarea.\n",
        "\n",
        "\n",
        "# La utilizaremos de esta forma:\n",
        "\n",
        "def area(**dato):\n",
        "  '''Calcula el área de un rectángulo'''\n",
        "  pi = 3.141592653589793\n",
        "\n",
        "  while dato[\"tipo\"] != 'rectangulo' and dato[\"tipo\"] != 'triangulo' and dato[\"tipo\"] != 'circulo':\n",
        "    print(\"El tipo no es valido\")\n",
        "    break\n",
        "  else:\n",
        "      if dato[\"tipo\"] == 'rectangulo':\n",
        "        area = dato[\"base\"] * dato[\"altura\"]\n",
        "        print(f\"El area de un rectangulo es: \", area)\n",
        "\n",
        "      elif dato[\"tipo\"] == 'triangulo':\n",
        "        area = dato[\"base\"] * dato[\"altura\"]/2\n",
        "        print(\"El area de un triangulo es: \", area)\n",
        "\n",
        "      elif dato[\"tipo\"] == 'circulo':\n",
        "        area = pi * (dato[\"radio\"]**2)\n",
        "        print(\"El area de un circulo es: \", area)\n",
        "\n",
        "\n",
        "area(base=22, altura=10, tipo=\"triangulo\")\n",
        "area(radio=3, tipo='circula')\n",
        "area(base=2, altura=8, tipo=\"rectangulo\")\n",
        "\n",
        "\n",
        "## su respuesta aquí"
      ],
      "execution_count": null,
      "outputs": [
        {
          "output_type": "stream",
          "name": "stdout",
          "text": [
            "El area de un triangulo es:  110.0\n",
            "El tipo no es valido\n",
            "El area de un rectangulo es:  16\n"
          ]
        }
      ]
    },
    {
      "cell_type": "markdown",
      "metadata": {
        "id": "i47rKWpLiYMw"
      },
      "source": [
        "<h3>2. Debemos dar nombre a los ítems de la escala \"VAR\", la cual contiene 40 ítem (variables).</h3>\n",
        "\n",
        "Cree una lista, con los 40 nombres de las variables de la escala de una manera más \"automatizada\" (no manual)\n",
        "\n"
      ]
    },
    {
      "cell_type": "code",
      "metadata": {
        "id": "AiotJnJOjQSn",
        "colab": {
          "base_uri": "https://localhost:8080/"
        },
        "outputId": "f40c156b-e115-4eef-8bd0-cfd04a0a85ef"
      },
      "source": [
        "## Su respuesta\n",
        "\n",
        "# escala que se llama VAR\n",
        "vars = list()\n",
        "for var_1 in range(1,41):\n",
        "  vars.append('var_'+str(var_1))\n",
        "\n",
        "for i in range(len(vars)):\n",
        "  print(vars[i])\n",
        "\n",
        "print(vars)\n",
        "\n",
        "\n",
        "# EJEMPLO RESULTADO\n",
        "# [var_1, var_2, var_3, var_4, var_5, ....var_40]"
      ],
      "execution_count": null,
      "outputs": [
        {
          "output_type": "stream",
          "name": "stdout",
          "text": [
            "var_1\n",
            "var_2\n",
            "var_3\n",
            "var_4\n",
            "var_5\n",
            "var_6\n",
            "var_7\n",
            "var_8\n",
            "var_9\n",
            "var_10\n",
            "var_11\n",
            "var_12\n",
            "var_13\n",
            "var_14\n",
            "var_15\n",
            "var_16\n",
            "var_17\n",
            "var_18\n",
            "var_19\n",
            "var_20\n",
            "var_21\n",
            "var_22\n",
            "var_23\n",
            "var_24\n",
            "var_25\n",
            "var_26\n",
            "var_27\n",
            "var_28\n",
            "var_29\n",
            "var_30\n",
            "var_31\n",
            "var_32\n",
            "var_33\n",
            "var_34\n",
            "var_35\n",
            "var_36\n",
            "var_37\n",
            "var_38\n",
            "var_39\n",
            "var_40\n",
            "['var_1', 'var_2', 'var_3', 'var_4', 'var_5', 'var_6', 'var_7', 'var_8', 'var_9', 'var_10', 'var_11', 'var_12', 'var_13', 'var_14', 'var_15', 'var_16', 'var_17', 'var_18', 'var_19', 'var_20', 'var_21', 'var_22', 'var_23', 'var_24', 'var_25', 'var_26', 'var_27', 'var_28', 'var_29', 'var_30', 'var_31', 'var_32', 'var_33', 'var_34', 'var_35', 'var_36', 'var_37', 'var_38', 'var_39', 'var_40']\n"
          ]
        }
      ]
    },
    {
      "cell_type": "markdown",
      "metadata": {
        "id": "0zO2z63OjUzK"
      },
      "source": [
        "<h3> 3. Con ayuda del módulo math y sus funciones log, sqrt y pow al cuadrado, transforme la lista de datos \"dataset\".<h3>"
      ]
    },
    {
      "cell_type": "code",
      "metadata": {
        "id": "lSCGgMQEjb2r",
        "colab": {
          "base_uri": "https://localhost:8080/"
        },
        "outputId": "c8aa01e9-92ad-4f8a-e9c0-61a7d48e3f1d"
      },
      "source": [
        "dataset = [0.11261046, 0.16316216, 0.12998802, 0.36554960, 0.30303266, 0.41499920, 0.53760504, 0.18769798, 0.01886004, 0.12906637, 0.14374814, 0.16176217, 0.09472321, 0.40856728, 0.50283251, 0.75930989, 0.58570095, 0.30807794, 0.52969123, 0.19528002, 0.53437938, 0.44994715, 0.22545340, 0.31997634, 0.29648556, 0.36032036, 0.33630162, 0.23511463, 0.49745186, 0.26608576, 0.33492151, 0.28874676, 0.18705277, 0.24073738, 0.28217391, 0.31025715, 0.32817082, 0.38893064, 0.26846118, 0.38017469, 0.13513146, 0.23397707, 0.40124373, 0.37587971, 0.18494078, 0.11536383, 0.64988178, 0.18308925, 0.32067482, 0.64018372]\n",
        "print(dataset)"
      ],
      "execution_count": null,
      "outputs": [
        {
          "output_type": "stream",
          "name": "stdout",
          "text": [
            "[0.11261046, 0.16316216, 0.12998802, 0.3655496, 0.30303266, 0.4149992, 0.53760504, 0.18769798, 0.01886004, 0.12906637, 0.14374814, 0.16176217, 0.09472321, 0.40856728, 0.50283251, 0.75930989, 0.58570095, 0.30807794, 0.52969123, 0.19528002, 0.53437938, 0.44994715, 0.2254534, 0.31997634, 0.29648556, 0.36032036, 0.33630162, 0.23511463, 0.49745186, 0.26608576, 0.33492151, 0.28874676, 0.18705277, 0.24073738, 0.28217391, 0.31025715, 0.32817082, 0.38893064, 0.26846118, 0.38017469, 0.13513146, 0.23397707, 0.40124373, 0.37587971, 0.18494078, 0.11536383, 0.64988178, 0.18308925, 0.32067482, 0.64018372]\n"
          ]
        }
      ]
    },
    {
      "cell_type": "code",
      "metadata": {
        "id": "KmDzcBh-jl8o",
        "colab": {
          "base_uri": "https://localhost:8080/"
        },
        "outputId": "98296edc-3fef-4f86-854a-732feb866b14"
      },
      "source": [
        "## Su respuesta\n",
        "import math\n",
        "\n",
        "for i in range(len(dataset)):\n",
        "\n",
        "  dataset[i] = [math.log(dataset[i]), math.sqrt(dataset[i]), math.pow(dataset[i], 2)]\n",
        "  i = i + 1\n",
        "\n",
        "print(dataset)\n",
        "\n"
      ],
      "execution_count": null,
      "outputs": [
        {
          "output_type": "stream",
          "name": "stdout",
          "text": [
            "[[-2.1838206723867764, 0.3355748202711282, 0.012681115701411599], [-1.8130107260815504, 0.4039333608406218, 0.0266218904558656], [-2.040312986619135, 0.36053851389276015, 0.016896885343520403], [-1.0063533044849646, 0.6046069797810806, 0.13362651006016], [-1.193914690502683, 0.5504840233830588, 0.09182879302667561], [-0.8794786864641402, 0.6442043154155365, 0.17222433600064002], [-0.6206311148171424, 0.7332155481166504, 0.2890191790334016], [-1.6729210973016055, 0.43324124919033274, 0.0352305316960804], [-3.9707098808883003, 0.13733186083352983, 0.00035570110880160004], [-2.047428510804185, 0.35925808272048665, 0.016658127864976904], [-1.9396925385188233, 0.37914131929928185, 0.020663527753459598], [-1.8216281088642479, 0.4021966807421464, 0.026166999643108903], [-2.3567962190625646, 0.30777135994110955, 0.0089724865127041], [-0.8950986781212567, 0.6391926783060019, 0.16692722228659837], [-0.6874981464406055, 0.709106839622916, 0.25284053311290006], [-0.27534529769302774, 0.8713838935853704, 0.5765515090518122], [-0.5349459438969356, 0.7653110152088496, 0.3430456028309025], [-1.1774024760727544, 0.5550476916446009, 0.0949120171146436], [-0.6354610271101557, 0.7277988939260625, 0.28057279913891287], [-1.6333207504803955, 0.4419049897885291, 0.0381342862112004], [-0.6266492428334755, 0.7310125717113215, 0.28556132176918436], [-0.7986251475593548, 0.6707810000290706, 0.20245243779312252], [-1.4896417932795476, 0.47481933406296756, 0.05082923557156], [-1.1395082234218765, 0.5656645118796123, 0.10238485815979562], [-1.215756763248021, 0.5445048760112254, 0.08790368728851358], [-1.0207617543594647, 0.6002669073004109, 0.1298307618305296], [-1.0897468431199506, 0.5799151834535806, 0.11309877961462442], [-1.4476820965334551, 0.4848862031446141, 0.0552788892400369], [-0.6982564908845054, 0.7053026726165158, 0.24745835301745964], [-1.3239366161470514, 0.5158350123828355, 0.0708016316747776], [-1.0938590731167168, 0.5787240361346675, 0.11217241786068008], [-1.242205237988308, 0.5373516167278182, 0.0833746914104976], [-1.6763645094229997, 0.432495976859901, 0.0349887387646729], [-1.4240486492001794, 0.49064995669010303, 0.0579544861292644], [-1.2652316959989756, 0.5312004423943941, 0.07962211548468809], [-1.170353809232273, 0.5570073159304103, 0.09625949912612249], [-1.1142210134805102, 0.5728619554482562, 0.10769608709947238], [-0.9443542546035237, 0.6236430389253135, 0.1512670427308096], [-1.3150489564916452, 0.5181323962077646, 0.07207140516699241], [-0.967124421369901, 0.6165830763165657, 0.1445327949165961], [-2.001507196579942, 0.3676023122887015, 0.018260511481731603], [-1.4525321598789032, 0.483711763346727, 0.0547452692857849], [-0.9131862308282255, 0.6334380238034342, 0.16099653086431293], [-0.978486106990397, 0.6130902951441981, 0.1412855563896841], [-1.6877196132574572, 0.4300474159903766, 0.0342030921070084], [-2.1596644055805307, 0.3396525136076576, 0.0133088132722689], [-0.43096480955714456, 0.8061524545642715, 0.4223463279759683], [-1.697781540112073, 0.4278892964307474, 0.0335216734655625], [-1.1373276911123542, 0.5662815730712064, 0.10283234018203241], [-0.44600008132297553, 0.8001148167606946, 0.4098351953530384]]\n"
          ]
        }
      ]
    }
  ]
}