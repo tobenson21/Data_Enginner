{
  "nbformat": 4,
  "nbformat_minor": 0,
  "metadata": {
    "colab": {
      "provenance": [],
      "authorship_tag": "ABX9TyNJZJ9TsWWRlj9x5Ayge+6Y",
      "include_colab_link": true
    },
    "kernelspec": {
      "name": "python3",
      "display_name": "Python 3"
    },
    "language_info": {
      "name": "python"
    }
  },
  "cells": [
    {
      "cell_type": "markdown",
      "metadata": {
        "id": "view-in-github",
        "colab_type": "text"
      },
      "source": [
        "<a href=\"https://colab.research.google.com/github/tobenson21/Data_Enginner/blob/main/Tarea_Individual_Benson_Agunanna.ipynb\" target=\"_parent\"><img src=\"https://colab.research.google.com/assets/colab-badge.svg\" alt=\"Open In Colab\"/></a>"
      ]
    },
    {
      "cell_type": "markdown",
      "source": [
        "# **ENTREGA TAREA INDIVIDUAL**\n",
        "\n",
        "nombre completo: Benson Tobenna Agunanna\\\n",
        "correo: b.agunanna@gmail.com"
      ],
      "metadata": {
        "id": "ETEQ7fkS7RO4"
      }
    },
    {
      "cell_type": "markdown",
      "source": [
        "# **Instalacion de framework para trabajar**"
      ],
      "metadata": {
        "id": "EAb7ZCMr8D78"
      }
    },
    {
      "cell_type": "code",
      "execution_count": null,
      "metadata": {
        "colab": {
          "base_uri": "https://localhost:8080/"
        },
        "id": "cZTeDUYy74PU",
        "outputId": "c56126ba-f6a9-4129-eed9-d3fbd7de409e"
      },
      "outputs": [
        {
          "output_type": "stream",
          "name": "stdout",
          "text": [
            "Collecting spark\n",
            "  Downloading spark-0.2.1.tar.gz (41 kB)\n",
            "\u001b[?25l     \u001b[90m━━━━━━━━━━━━━━━━━━━━━━━━━━━━━━━━━━━━━━━━\u001b[0m \u001b[32m0.0/41.0 kB\u001b[0m \u001b[31m?\u001b[0m eta \u001b[36m-:--:--\u001b[0m\r\u001b[2K     \u001b[91m━━━━━━━━━━━━━━━━━━━━━━━━━━━━━━━━━━━━━━━\u001b[0m\u001b[91m╸\u001b[0m \u001b[32m41.0/41.0 kB\u001b[0m \u001b[31m5.2 MB/s\u001b[0m eta \u001b[36m0:00:01\u001b[0m\r\u001b[2K     \u001b[90m━━━━━━━━━━━━━━━━━━━━━━━━━━━━━━━━━━━━━━━━\u001b[0m \u001b[32m41.0/41.0 kB\u001b[0m \u001b[31m562.9 kB/s\u001b[0m eta \u001b[36m0:00:00\u001b[0m\n",
            "\u001b[?25h  Preparing metadata (setup.py) ... \u001b[?25l\u001b[?25hdone\n",
            "Building wheels for collected packages: spark\n",
            "  Building wheel for spark (setup.py) ... \u001b[?25l\u001b[?25hdone\n",
            "  Created wheel for spark: filename=spark-0.2.1-py3-none-any.whl size=58748 sha256=2b09ae5b67e7223dcb18dd3e8b82981c47e53957ff3ac325dca63eb956c77eda\n",
            "  Stored in directory: /root/.cache/pip/wheels/63/88/77/b4131110ea4094540f7b47c6d62a649807d7e94800da5eab0b\n",
            "Successfully built spark\n",
            "Installing collected packages: spark\n",
            "Successfully installed spark-0.2.1\n",
            "Requirement already satisfied: pyspark in /usr/local/lib/python3.10/dist-packages (3.5.3)\n",
            "Requirement already satisfied: py4j==0.10.9.7 in /usr/local/lib/python3.10/dist-packages (from pyspark) (0.10.9.7)\n"
          ]
        }
      ],
      "source": [
        "!pip install spark\n",
        "!pip install pyspark"
      ]
    },
    {
      "cell_type": "markdown",
      "source": [
        "# Importacion de librerias necesarias"
      ],
      "metadata": {
        "id": "TFKccVLO9Yn4"
      }
    },
    {
      "cell_type": "code",
      "source": [
        "from pyspark.sql import SparkSession\n",
        "from google.colab import drive\n",
        "from os import truncate\n",
        "import pyspark.sql.functions as func\n",
        "from pyspark.sql.types import IntegerType, FloatType, BooleanType, StringType, DateType\n",
        "from ast import expr"
      ],
      "metadata": {
        "id": "RiNR3-nn9YFI"
      },
      "execution_count": null,
      "outputs": []
    },
    {
      "cell_type": "markdown",
      "source": [
        "## Realizacion de spark de la libreria pyspark"
      ],
      "metadata": {
        "id": "j5nPJDc28RhV"
      }
    },
    {
      "cell_type": "code",
      "source": [
        "spark = SparkSession.builder.appName('examples.com').getOrCreate()\n",
        "spark"
      ],
      "metadata": {
        "colab": {
          "base_uri": "https://localhost:8080/",
          "height": 219
        },
        "id": "B_SgqjAC8UWp",
        "outputId": "d074570b-f180-4ac8-bc44-3daac054a905"
      },
      "execution_count": null,
      "outputs": [
        {
          "output_type": "execute_result",
          "data": {
            "text/plain": [
              "<pyspark.sql.session.SparkSession at 0x7877bcbe0340>"
            ],
            "text/html": [
              "\n",
              "            <div>\n",
              "                <p><b>SparkSession - in-memory</b></p>\n",
              "                \n",
              "        <div>\n",
              "            <p><b>SparkContext</b></p>\n",
              "\n",
              "            <p><a href=\"http://62324ae05c64:4040\">Spark UI</a></p>\n",
              "\n",
              "            <dl>\n",
              "              <dt>Version</dt>\n",
              "                <dd><code>v3.5.3</code></dd>\n",
              "              <dt>Master</dt>\n",
              "                <dd><code>local[*]</code></dd>\n",
              "              <dt>AppName</dt>\n",
              "                <dd><code>examples.com</code></dd>\n",
              "            </dl>\n",
              "        </div>\n",
              "        \n",
              "            </div>\n",
              "        "
            ]
          },
          "metadata": {},
          "execution_count": 3
        }
      ]
    },
    {
      "cell_type": "markdown",
      "source": [
        "## Conexion de drive y sus carpetas con colab"
      ],
      "metadata": {
        "id": "Jt9Y6hGv8ygA"
      }
    },
    {
      "cell_type": "code",
      "source": [
        "drive.mount('/content/drive')"
      ],
      "metadata": {
        "colab": {
          "base_uri": "https://localhost:8080/"
        },
        "id": "4ljR_S3i83fV",
        "outputId": "f5eb07b5-4d6c-4b6d-ab59-af9c94f6331a"
      },
      "execution_count": null,
      "outputs": [
        {
          "output_type": "stream",
          "name": "stdout",
          "text": [
            "Mounted at /content/drive\n"
          ]
        }
      ]
    },
    {
      "cell_type": "markdown",
      "source": [
        "## Se crearan todas las datas para poder leerlas y trabajar con ellas"
      ],
      "metadata": {
        "id": "JrrCQdB7-AaN"
      }
    },
    {
      "cell_type": "code",
      "source": [
        "#ruta y lectura de data csv\n",
        "df_comp_industries = spark.read.csv('/content/drive/MyDrive/linkedin/company_industries.csv', header=True, inferSchema=True, sep=\",\")\n",
        "df_comp_specialities = spark.read.csv('/content/drive/MyDrive/linkedin/company_specialities.csv', header=True, inferSchema=True, sep=\",\")\n",
        "df_emp_counts = spark.read.csv('/content/drive/MyDrive/linkedin/employee_counts.csv', header=True, inferSchema=True, sep=\",\")\n",
        "df_job_skills = spark.read.csv('/content/drive/MyDrive/linkedin/job_skills.csv', header=True, inferSchema=True, sep=\",\")\n",
        "\n",
        "#ruta y lectura de data parquet\n",
        "df_companies_parquet = spark.read.parquet(\"/content/drive/MyDrive/linkedin/companies.parquet\", header=True, inferSchema=True, sep=\",\")\n",
        "df_job_postings_parquet = spark.read.parquet(\"/content/drive/MyDrive/linkedin/job_postings.parquet\", header=True, inferSchema=True, sep=\",\")\n",
        "df_job_postings_descrip_parquet = spark.read.parquet(\"/content/drive/MyDrive/linkedin/job_postings_description.parquet\", header=True, inferSchema=True, sep=\",\")"
      ],
      "metadata": {
        "id": "RDvfCxyR-ER0"
      },
      "execution_count": null,
      "outputs": []
    },
    {
      "cell_type": "markdown",
      "source": [
        "## Visualizacion de DataSets"
      ],
      "metadata": {
        "id": "izGySYUa-Rep"
      }
    },
    {
      "cell_type": "code",
      "source": [
        "df_comp_industries.show(10, truncate= False)\n",
        "df_comp_specialities.show(10, truncate= False)\n",
        "df_emp_counts.show(10,truncate= False)\n",
        "df_job_skills.show(10,truncate= False)\n",
        "\n",
        "df_companies_parquet.show(10, truncate=False)\n",
        "df_job_postings_parquet.show(10, truncate= False)\n",
        "df_job_postings_descrip_parquet.show(10, truncate= False)"
      ],
      "metadata": {
        "colab": {
          "base_uri": "https://localhost:8080/"
        },
        "id": "Pe6IXVck-SV9",
        "outputId": "a16374fc-1c91-4681-e04c-cc57fee54f38"
      },
      "execution_count": null,
      "outputs": [
        {
          "output_type": "stream",
          "name": "stdout",
          "text": [
            "+----------+-------------------------------------+\n",
            "|company_id|industry                             |\n",
            "+----------+-------------------------------------+\n",
            "|81149246  |Higher Education                     |\n",
            "|10033339  |Information Technology & Services    |\n",
            "|6049228   |Accounting                           |\n",
            "|2641066   |Electrical & Electronic Manufacturing|\n",
            "|96649998  |Marketing & Advertising              |\n",
            "|82684341  |Hospital & Health Care               |\n",
            "|82296828  |Information Technology & Services    |\n",
            "|86746333  |Logistics & Supply Chain             |\n",
            "|718651    |Medical Practice                     |\n",
            "|4781041   |Mental Health Care                   |\n",
            "+----------+-------------------------------------+\n",
            "only showing top 10 rows\n",
            "\n",
            "+----------+----------------------------+\n",
            "|company_id|speciality                  |\n",
            "+----------+----------------------------+\n",
            "|81149246  |Childrens Music Education   |\n",
            "|81149246  |Foundational Music Theory   |\n",
            "|81149246  |Child Music Lessons         |\n",
            "|81149246  |social emotional learning   |\n",
            "|81149246  |social emotional development|\n",
            "|81149246  |education                   |\n",
            "|81149246  |formative assessment        |\n",
            "|81149246  |expanded learning           |\n",
            "|81149246  |enrichment programs         |\n",
            "|10033339  |SharePoint                  |\n",
            "+----------+----------------------------+\n",
            "only showing top 10 rows\n",
            "\n",
            "+----------+--------------+--------------+--------------------+\n",
            "|company_id|employee_count|follower_count|time_recorded       |\n",
            "+----------+--------------+--------------+--------------------+\n",
            "|81149246  |6             |91            |1.6926446442779734E9|\n",
            "|10033339  |3             |187           |1.6926446442779734E9|\n",
            "|6049228   |20            |82            |1.6926446451013184E9|\n",
            "|2641066   |45            |2336          |1.6926446459232166E9|\n",
            "|96649998  |0             |2             |1.692644645924219E9 |\n",
            "|82684341  |3             |128           |1.6926446463704655E9|\n",
            "|82296828  |0             |64            |1.6926446463704655E9|\n",
            "|86746333  |11            |478           |1.6926446468182244E9|\n",
            "|718651    |5             |22            |1.6926446471765628E9|\n",
            "|4781041   |14            |17            |1.69264464762722E9  |\n",
            "+----------+--------------+--------------+--------------------+\n",
            "only showing top 10 rows\n",
            "\n",
            "+----------+---------+\n",
            "|job_id    |skill_abr|\n",
            "+----------+---------+\n",
            "|3690843087|ACCT     |\n",
            "|3690843087|FIN      |\n",
            "|3691763971|MGMT     |\n",
            "|3691763971|MNFC     |\n",
            "|3691775263|MGMT     |\n",
            "|3691775263|MNFC     |\n",
            "|3691786992|HCPR     |\n",
            "|3691789797|MGMT     |\n",
            "|3691789797|MNFC     |\n",
            "|3691789919|HCPR     |\n",
            "+----------+---------+\n",
            "only showing top 10 rows\n",
            "\n",
            "+----------+--------------------------+---------------------------------------------------------------------------------------------------------------------------------------------------------------------------------------------------------------------------------------------------------------------------------------------------------------------------------------------------------------------------------------------------------------------------------------------------------------------------------------------------------------------------------------------------------------------------------------------------------------------------------------------------------------------------------------------------------------------------------------------------------------------------------------------------------------------------------------------------------------------------------------------------------------------------------------------------------------------------------------------------------------------------------------------------------------------------------------------------------------------------------------------------------------------------------------------------------------------------------------------------------------------------------------------------------------------------------------------------------------------------------------------------------------------------------------------------------------------------------------------------------------------------------------------------------------------------------------------------------------------------------------------------------------------------------------------------------------------------------------------------------------+------------+---------+-------+----------------+--------+-------------------------------------+-----------------------------------------------------------+\n",
            "|company_id|name                      |description                                                                                                                                                                                                                                                                                                                                                                                                                                                                                                                                                                                                                                                                                                                                                                                                                                                                                                                                                                                                                                                                                                                                                                                                                                                                                                                                                                                                                                                                                                                                                                                                                                                                                                                                                    |company_size|state    |country|city            |zip_code|address                              |url                                                        |\n",
            "+----------+--------------------------+---------------------------------------------------------------------------------------------------------------------------------------------------------------------------------------------------------------------------------------------------------------------------------------------------------------------------------------------------------------------------------------------------------------------------------------------------------------------------------------------------------------------------------------------------------------------------------------------------------------------------------------------------------------------------------------------------------------------------------------------------------------------------------------------------------------------------------------------------------------------------------------------------------------------------------------------------------------------------------------------------------------------------------------------------------------------------------------------------------------------------------------------------------------------------------------------------------------------------------------------------------------------------------------------------------------------------------------------------------------------------------------------------------------------------------------------------------------------------------------------------------------------------------------------------------------------------------------------------------------------------------------------------------------------------------------------------------------------------------------------------------------+------------+---------+-------+----------------+--------+-------------------------------------+-----------------------------------------------------------+\n",
            "|1009      |IBM                       |At IBM, we do more than work. We create. We create as technologists, developers, and engineers. We create with our partners. We create with our competitors. If you're searching for ways to make the world work better through technology and infrastructure, software and consulting, then we want to work with you.\\n\\nWe're here to help every creator turn their \"what if\" into what is. Let's create something that will change everything.                                                                                                                                                                                                                                                                                                                                                                                                                                                                                                                                                                                                                                                                                                                                                                                                                                                                                                                                                                                                                                                                                                                                                                                                                                                                                                              |7.0         |NY       |US     |Armonk, New York|10504   |International Business Machines Corp.|https://www.linkedin.com/company/ibm                       |\n",
            "|1016      |GE HealthCare             |Every day millions of people feel the impact of our intelligent devices, advanced analytics and artificial intelligence. As a leading global medical technology and digital solutions innovator, GE HealthCare enables clinicians to make faster, more informed decisions through intelligent devices, data analytics, applications and services, supported by its Edison intelligence platform.\\n\\nWith over 100 years of healthcare industry experience and around 50,000 employees globally, the company operates at the center of an ecosystem working toward precision health, digitizing healthcare, helping drive productivity and improve outcomes for patients, providers, health systems and researchers around the world.\\n\\nWe embrace a culture of respect, transparency, integrity and diversity and we work to create a world where healthcare has no limits.                                                                                                                                                                                                                                                                                                                                                                                                                                                                                                                                                                                                                                                                                                                                                                                                                                                                                   |7.0         |0        |US     |Chicago         |0       |-                                    |https://www.linkedin.com/company/gehealthcare              |\n",
            "|1021      |GE Power                  |GE Power, part of GE Vernova, is a world energy leader that provides technology, solutions and services across the entire energy value chain from the point of generation to consumption. Powering more than a third of the world, it serves customers in more than 150 countries.                                                                                                                                                                                                                                                                                                                                                                                                                                                                                                                                                                                                                                                                                                                                                                                                                                                                                                                                                                                                                                                                                                                                                                                                                                                                                                                                                                                                                                                                             |7.0         |NY       |US     |Schenectady     |12345   |1 River Road                         |https://www.linkedin.com/company/gepower                   |\n",
            "|1025      |Hewlett Packard Enterprise|Official LinkedIn of Hewlett Packard Enterprise, the global edge-to-cloud company. Sharing our passion and purpose through technology and innovation.                                                                                                                                                                                                                                                                                                                                                                                                                                                                                                                                                                                                                                                                                                                                                                                                                                                                                                                                                                                                                                                                                                                                                                                                                                                                                                                                                                                                                                                                                                                                                                                                          |7.0         |Texas    |US     |Houston         |77389   |1701 E Mossy Oaks Rd Spring          |https://www.linkedin.com/company/hewlett-packard-enterprise|\n",
            "|1028      |Oracle                    |We’re a cloud technology company that provides organizations around the world with computing infrastructure and software to help them innovate, unlock efficiencies and become more effective. We also created the world’s first – and only – autonomous database to help organize and secure our customers’ data.\\n \\nOracle Cloud Infrastructure offers higher performance, security, and cost savings. It is designed so businesses can move workloads easily from on-premises systems to the cloud, and between cloud and on-premises and other clouds. Oracle Cloud applications provide business leaders with modern applications that help them innovate, attain sustainable growth, and become more resilient. \\n \\nThe work we do is not only transforming the world of business--it's helping defend governments, and advance scientific and medical research. From nonprofits to companies of all sizes, millions of people use our tools to streamline supply chains, make HR more human, quickly pivot to a new financial plan, and connect data and people around the world.  \\n\\nAt work, we embrace diversity, encourage personal and professional growth, and celebrate a global team of passionate people developing innovative technologies that help people and companies tackle real-world problems head-on.\\n\\nIf you’d like to join us, please visit our Careers page: https://www.oracle.com/corporate/careers/\\n\\nFor investor news, SEC filings, and financial information about Oracle (NYSE:ORCL), please visit https://investor.oracle.com/home/.\\n \\nFollow us on Twitter: https://twitter.com/oracle \\nLike our page on Facebook: https://www.facebook.com/Oracle/ \\nFollow us on Instagram: https://www.instagram.com/oracle/\\n|7.0         |Texas    |US     |Austin          |78741   |2300 Oracle Way                      |https://www.linkedin.com/company/oracle                    |\n",
            "|1038      |Deloitte                  |Deloitte drives progress. Our firms around the world help clients become leaders wherever they choose to compete. Deloitte invests in outstanding people of diverse talents and backgrounds and empowers them to achieve more than they could elsewhere. Our work combines advice with action and integrity. We believe that when our clients and society are stronger, so are we. \\n\\nDeloitte refers to one or more of Deloitte Touche Tohmatsu Limited (“DTTL”), its global network of member firms, and their related entities. DTTL (also referred to as “Deloitte Global”) and each of its member firms are legally separate and independent entities. DTTL does not provide services to clients. Please see www.deloitte.com/about to learn more.\\n\\nThe content on this page contains general information only, and none of Deloitte Touche Tohmatsu Limited, its member firms, or their related entities (collectively the “Deloitte Network”) is, by means of this publication, rendering professional advice or services. Before making any decision or taking any action that may affect your finances or your business, you should consult a qualified professional adviser. No entity in the Deloitte Network shall be responsible for any loss whatsoever sustained by any person who relies on content from this page.                                                                                                                                                                                                                                                                                                                                                                                                                         |7.0         |0        |OO     |Worldwide       |0       |Worldwide                            |https://www.linkedin.com/company/deloitte                  |\n",
            "|1043      |Siemens                   |Siemens is a technology company focused on industry, infrastructure, transport, and healthcare. From more resource-efficient factories, resilient supply chains, and smarter buildings and grids, to cleaner and more comfortable transportation as well as advanced healthcare, the company creates technology with purpose adding real value for customers. By combining the real and the digital worlds, Siemens empowers its customers to transform their industries and markets, helping them to transform the everyday for billions of people. Siemens also owns a majority stake in the publicly listed company Siemens Healthineers, a globally leading medical technology provider shaping the future of healthcare. In addition, Siemens holds a minority stake in Siemens Energy, a global leader in the transmission and generation of electrical power.\\nIn fiscal 2022, which ended on September 30, 2022, the Siemens Group generated revenue of €72.0 billion and net income of €4.4 billion. As of September 30, 2022, the company had around 311,000 employees worldwide. Further information is available at www.siemens.com.                                                                                                                                                                                                                                                                                                                                                                                                                                                                                                                                                                                                               |7.0         |0        |DE     |Munich          |80333   |Werner-von-Siemens-Straße 1          |https://www.linkedin.com/company/siemens                   |\n",
            "|1044      |PwC                       |At PwC, our purpose is to build trust in society and solve important problems. We’re a network of firms in 152 countries with over 327,000 people who are committed to delivering quality in assurance, advisory and tax services. Find out more and tell us what matters to you by visiting us at www.pwc.com.  PwC refers to the PwC network and/or one or more of its member firms, each of which is a separate legal entity.\\n\\nContent on this page has been prepared for general information only and is not intended to be relied upon as accounting, tax or professional advice. Please reach out to your advisors for specific advice.                                                                                                                                                                                                                                                                                                                                                                                                                                                                                                                                                                                                                                                                                                                                                                                                                                                                                                                                                                                                                                                                                                                |7.0         |0        |GB     |0               |0       |1 Embankment Place                   |https://www.linkedin.com/company/pwc                       |\n",
            "|1060      |Ericsson                  |Our purpose \\nTo create connections that make the unimaginable possible.\\n\\nOur vision\\nA world where limitless connectivity improves lives, redefines business and pioneers a sustainable future.\\n\\nOur values\\nPerseverance, professionalism, respect and integrity.\\n\\nThe future is a place for purpose & vision – ours are clear, and we invite partners, customers and consumers to join us in our journey. \\n\\nFor a brighter future. For all. Let's #ImaginePossible                                                                                                                                                                                                                                                                                                                                                                                                                                                                                                                                                                                                                                                                                                                                                                                                                                                                                                                                                                                                                                                                                                                                                                                                                                                                                  |7.0         |Stockholm|SE     |Kista           |0       |Torshamnsgatan 21                    |https://www.linkedin.com/company/ericsson                  |\n",
            "|1063      |Cisco                     |Cisco (NASDAQ: CSCO) enables people to make powerful connections--whether in business, education, philanthropy, or creativity. Cisco hardware, software, and service offerings are used to create the Internet solutions that make networks possible--providing easy access to information anywhere, at any time. \\r\\n\\r\\nCisco was founded in 1984 by a small group of computer scientists from Stanford University. Since the company's inception, Cisco engineers have been leaders in the development of Internet Protocol (IP)-based networking technologies. Today, with more than 71,000 employees worldwide, this tradition of innovation continues with industry-leading products and solutions in the company's core development areas of routing and switching, as well as in advanced technologies such as home networking, IP telephony, optical networking, security, storage area networking, and wireless technology. In addition to its products, Cisco provides a broad range of service offerings, including technical support and advanced services. \\r\\n\\r\\nCisco sells its products and services, both directly through its own sales force as well as through its channel partners, to large enterprises, commercial businesses, service providers, and consumers.                                                                                                                                                                                                                                                                                                                                                                                                                                                                      |7.0         |CA       |US     |San Jose        |95134   |Tasman Way                           |https://www.linkedin.com/company/cisco                     |\n",
            "+----------+--------------------------+---------------------------------------------------------------------------------------------------------------------------------------------------------------------------------------------------------------------------------------------------------------------------------------------------------------------------------------------------------------------------------------------------------------------------------------------------------------------------------------------------------------------------------------------------------------------------------------------------------------------------------------------------------------------------------------------------------------------------------------------------------------------------------------------------------------------------------------------------------------------------------------------------------------------------------------------------------------------------------------------------------------------------------------------------------------------------------------------------------------------------------------------------------------------------------------------------------------------------------------------------------------------------------------------------------------------------------------------------------------------------------------------------------------------------------------------------------------------------------------------------------------------------------------------------------------------------------------------------------------------------------------------------------------------------------------------------------------------------------------------------------------+------------+---------+-------+----------------+--------+-------------------------------------+-----------------------------------------------------------+\n",
            "only showing top 10 rows\n",
            "\n",
            "+----------+-----------+--------------------------------+----------+----------+----------+----------+-------------------+-----------------+-------+--------------------+--------------+-----+---------------------------------------------------------------------+----------------------------------------------------------------------------------------------------------------------------------------------------------------------------------------------------------+------------------+-------+-----------+--------------------------+-----------+-----------+--------------+---------+---------+--------+-----------------+\n",
            "|job_id    |company_id |title                           |max_salary|med_salary|min_salary|pay_period|formatted_work_type|location         |applies|original_listed_time|remote_allowed|views|job_posting_url                                                      |application_url                                                                                                                                                                                           |application_type  |expiry |closed_time|formatted_experience_level|skills_desc|listed_time|posting_domain|sponsored|work_type|currency|compensation_type|\n",
            "+----------+-----------+--------------------------------+----------+----------+----------+----------+-------------------+-----------------+-------+--------------------+--------------+-----+---------------------------------------------------------------------+----------------------------------------------------------------------------------------------------------------------------------------------------------------------------------------------------------+------------------+-------+-----------+--------------------------+-----------+-----------+--------------+---------+---------+--------+-----------------+\n",
            "|85008768  |NULL       |Licensed Insurance Agent        |52000.0   |NULL      |45760.0   |YEARLY    |Full-time          |Chico, CA        |NULL   |1.69E12             |NULL          |5.0  |https://www.linkedin.com/jobs/view/85008768/?trk=jobs_biz_prem_srch  |NULL                                                                                                                                                                                                      |ComplexOnsiteApply|1.71E12|NULL       |NULL                      |NULL       |1.69E12    |NULL          |1        |FULL_TIME|USD     |BASE_SALARY      |\n",
            "|133114754 |7.7766802E7|Sales Manager                   |NULL      |NULL      |NULL      |NULL      |Full-time          |Santa Clarita, CA|NULL   |1.69E12             |NULL          |NULL |https://www.linkedin.com/jobs/view/133114754/?trk=jobs_biz_prem_srch |NULL                                                                                                                                                                                                      |ComplexOnsiteApply|1.7E12 |NULL       |NULL                      |NULL       |1.69E12    |NULL          |0        |FULL_TIME|NULL    |NULL             |\n",
            "|133196985 |1089558.0  |Model Risk Auditor              |NULL      |NULL      |NULL      |NULL      |Contract           |New York, NY     |1.0    |1.69E12             |NULL          |17.0 |https://www.linkedin.com/jobs/view/133196985/?trk=jobs_biz_prem_srch |NULL                                                                                                                                                                                                      |ComplexOnsiteApply|1.7E12 |NULL       |NULL                      |NULL       |1.69E12    |NULL          |0        |CONTRACT |NULL    |NULL             |\n",
            "|381055942 |9.6654609E7|Business Manager                |NULL      |NULL      |NULL      |NULL      |Full-time          |Forney, TX       |NULL   |1.69E12             |NULL          |NULL |https://www.linkedin.com/jobs/view/381055942/?trk=jobs_biz_prem_srch |NULL                                                                                                                                                                                                      |ComplexOnsiteApply|1.7E12 |NULL       |NULL                      |NULL       |1.69E12    |NULL          |0        |FULL_TIME|NULL    |NULL             |\n",
            "|529257371 |1244539.0  |NY Studio Assistant             |NULL      |NULL      |NULL      |NULL      |Full-time          |New York, NY     |NULL   |1.69E12             |NULL          |2.0  |https://www.linkedin.com/jobs/view/529257371/?trk=jobs_biz_prem_srch |NULL                                                                                                                                                                                                      |ComplexOnsiteApply|1.71E12|NULL       |NULL                      |NULL       |1.69E12    |NULL          |1        |FULL_TIME|NULL    |NULL             |\n",
            "|903408693 |3894635.0  |Office Associate                |42000.0   |NULL      |37000.0   |YEARLY    |Full-time          |Albany, GA       |5.0    |1.69E12             |NULL          |49.0 |https://www.linkedin.com/jobs/view/903408693/?trk=jobs_biz_prem_srch |NULL                                                                                                                                                                                                      |ComplexOnsiteApply|1.71E12|NULL       |NULL                      |NULL       |1.69E12    |NULL          |1        |FULL_TIME|USD     |BASE_SALARY      |\n",
            "|967848246 |1.8995316E7|Education Manager               |NULL      |NULL      |NULL      |NULL      |Full-time          |United States    |45.0   |1.69E12             |1.0           |411.0|https://www.linkedin.com/jobs/view/967848246/?trk=jobs_biz_prem_srch |https://workforcenow.adp.com/mascsr/default/mdf/recruitment/recruitment.html?cid=94f2ff44-c7c4-4b7d-a429-26ba5c107f24&ccId=19000101_000001&lang=en_US&source=CC2&selectedMenuKey=CareerCenter&jobId=890751|OffsiteApply      |1.7E12 |NULL       |NULL                      |NULL       |1.69E12    |NULL          |0        |FULL_TIME|NULL    |NULL             |\n",
            "|1004740969|882349.0   |Civil Engineer                  |NULL      |NULL      |NULL      |NULL      |Full-time          |Forney, TX       |28.0   |1.69E12             |NULL          |82.0 |https://www.linkedin.com/jobs/view/1004740969/?trk=jobs_biz_prem_srch|NULL                                                                                                                                                                                                      |ComplexOnsiteApply|1.71E12|NULL       |NULL                      |NULL       |1.69E12    |NULL          |1        |FULL_TIME|NULL    |NULL             |\n",
            "|1029078768|61469.0    |Registered Nurse (RN) Vaccinator|50.0      |NULL      |50.0      |HOURLY    |Part-time          |Muskegon, MI     |NULL   |1.69E12             |NULL          |4.0  |https://www.linkedin.com/jobs/view/1029078768/?trk=jobs_biz_prem_srch|NULL                                                                                                                                                                                                      |ComplexOnsiteApply|1.7E12 |NULL       |NULL                      |NULL       |1.69E12    |NULL          |0        |PART_TIME|USD     |BASE_SALARY      |\n",
            "|1053342128|NULL       |Company Owner                   |NULL      |NULL      |NULL      |NULL      |Full-time          |Midland, TX      |NULL   |1.69E12             |1.0           |NULL |https://www.linkedin.com/jobs/view/1053342128/?trk=jobs_biz_prem_srch|NULL                                                                                                                                                                                                      |ComplexOnsiteApply|1.7E12 |NULL       |NULL                      |NULL       |1.69E12    |NULL          |0        |FULL_TIME|NULL    |NULL             |\n",
            "+----------+-----------+--------------------------------+----------+----------+----------+----------+-------------------+-----------------+-------+--------------------+--------------+-----+---------------------------------------------------------------------+----------------------------------------------------------------------------------------------------------------------------------------------------------------------------------------------------------+------------------+-------+-----------+--------------------------+-----------+-----------+--------------+---------+---------+--------+-----------------+\n",
            "only showing top 10 rows\n",
            "\n",
            "+----------+---------------------------------------------------------------------------------------------------------------------------------------------------------------------------------------------------------------------------------------------------------------------------------------------------------------------------------------------------------------------------------------------------------------------------------------------------------------------------------------------------------------------------------------------------------------------------------------------------------------------------------------------------------------------------------------------------------------------------------------------------------------------------------------------------------------------------------------------------------------------------------------------------------------------------------------------------------------------------------------------------------------------------------------------------------------------------------------------------------------------------------------------------------------------------------------------------------------------------------------------------------------------------------------------------------------------------------------------------------------------------------------------------------------------------------------------------------------------------------------------------------------------------------------------------------------------------------------------------------------------------------------------------------------------------------------------------------------------------------------------------------------------------------------------------------------------------------------------------------------------------------------------------------------------------------------------------------------------------------------------------------------------------------------------------------------------------------------------------------------------------------------------------------------------------------------------------------------------------------------------------------------------------------------------------------------------------------------------------------------------------------------------------------------------------------------------------------------------------------------------------------------------------------------------------------------------------------------------------------------------------------------------------------------------------------------------------------------------------------------------------------------------------------------------------------------------------------------------------------------------------------------------------------------------------------------------------------------------------------------------------------------------------------------------------------------------------------------------------------------------------------------------------------------------------------------------------------------------------------------------------------------------------------------------------------------------------------------------------------------------------------------------------------------------------------------------------------------------------------------------------------------------------------------------------------------------------------------------------------------------------------------------------------------------------------------------------------------------------------------------------------------------------------------------------------------------------------------------------------------------------------------------------------------------------------------------------------------------------------------------------------------------------------------------------------------------------------------------------------------------------------------------------------------------------------------------------------------------------------------------------------------------------------------------------------------------------------------------------------------------------------------------------------------------------------------------------------------------------------------------------------------------------------------------------------------------------------------------------------------------------------------------------------------------------------------------------------------------------------------------------------------------------------------------------------------------------------------------------------------------------------------------------------------------------------------------------------------------------------------------------------------------------------------------------------------------------------------------------------------------------------------------------------------------------------------------------------------------------------------------------------------------------------------------------------------------------------------------------------------------+\n",
            "|job_id    |description                                                                                                                                                                                                                                                                                                                                                                                                                                                                                                                                                                                                                                                                                                                                                                                                                                                                                                                                                                                                                                                                                                                                                                                                                                                                                                                                                                                                                                                                                                                                                                                                                                                                                                                                                                                                                                                                                                                                                                                                                                                                                                                                                                                                                                                                                                                                                                                                                                                                                                                                                                                                                                                                                                                                                                                                                                                                                                                                                                                                                                                                                                                                                                                                                                                                                                                                                                                                                                                                                                                                                                                                                                                                                                                                                                                                                                                                                                                                                                                                                                                                                                                                                                                                                                                                                                                                                                                                                                                                                                                                                                                                                                                                                                                                                                                                                                                                                                                                                                                                                                                                                                                                                                                                                                                                                                                                                          |\n",
            "+----------+---------------------------------------------------------------------------------------------------------------------------------------------------------------------------------------------------------------------------------------------------------------------------------------------------------------------------------------------------------------------------------------------------------------------------------------------------------------------------------------------------------------------------------------------------------------------------------------------------------------------------------------------------------------------------------------------------------------------------------------------------------------------------------------------------------------------------------------------------------------------------------------------------------------------------------------------------------------------------------------------------------------------------------------------------------------------------------------------------------------------------------------------------------------------------------------------------------------------------------------------------------------------------------------------------------------------------------------------------------------------------------------------------------------------------------------------------------------------------------------------------------------------------------------------------------------------------------------------------------------------------------------------------------------------------------------------------------------------------------------------------------------------------------------------------------------------------------------------------------------------------------------------------------------------------------------------------------------------------------------------------------------------------------------------------------------------------------------------------------------------------------------------------------------------------------------------------------------------------------------------------------------------------------------------------------------------------------------------------------------------------------------------------------------------------------------------------------------------------------------------------------------------------------------------------------------------------------------------------------------------------------------------------------------------------------------------------------------------------------------------------------------------------------------------------------------------------------------------------------------------------------------------------------------------------------------------------------------------------------------------------------------------------------------------------------------------------------------------------------------------------------------------------------------------------------------------------------------------------------------------------------------------------------------------------------------------------------------------------------------------------------------------------------------------------------------------------------------------------------------------------------------------------------------------------------------------------------------------------------------------------------------------------------------------------------------------------------------------------------------------------------------------------------------------------------------------------------------------------------------------------------------------------------------------------------------------------------------------------------------------------------------------------------------------------------------------------------------------------------------------------------------------------------------------------------------------------------------------------------------------------------------------------------------------------------------------------------------------------------------------------------------------------------------------------------------------------------------------------------------------------------------------------------------------------------------------------------------------------------------------------------------------------------------------------------------------------------------------------------------------------------------------------------------------------------------------------------------------------------------------------------------------------------------------------------------------------------------------------------------------------------------------------------------------------------------------------------------------------------------------------------------------------------------------------------------------------------------------------------------------------------------------------------------------------------------------------------------------------------------------+\n",
            "|85008768  |While many industries were hurt by the last few years, people still need insurance! This position is an amazing opportunity for someone who wants a career in the insurance industry. Successful agents have the opportunity to grow and develop skills that position them for Leadership Roles or even Agency Ownership in the future!\\nI’m Sonia Sullivan-Aery and, for almost eight years, I’ve had an incredibly rewarding career with Allstate Insurance. My team and I have helped thousands of families across California, and now we need one more outstanding agent to join our team!\\nHere’s what I’m looking for:Someone with a POSITIVE & SUPPORTIVE mindsetA TEAM PLAYERSomeone who is SELF-DRIVENSomeone who is CUSTOMER-FOCUSED and genuinely wants to help peopleAnd finally, someone who is COACHABLE\\nHere’s what you can expect from me:\\nI offer a very competitive base salary, PLUS commissions, PLUS bonuses, AND benefits including health, dental, vision, an IRA match, and much more!\\nEntry Level: $19/hr with huge opportunities for development!\\nInsurance is extremely rewarding – it’s a career that is inflation-proof, recession-proof, and is always changing and provides so many opportunities to grow and learn!\\nMy philosophy as an employer is that I do my best to take excellent care of my team, so they can take excellent care of our clients. My team receives outstanding training and support, with every resource they need to be successful.\\nHUGE BONUS POINTS IF YOU SPEAK SPANISH!\\nWill you be my next team member!? Apply today and let's connect!\\nJob Type: Full-time\\nPay: $19.00 - $22.00 per hour\\nBenefits:401(k)401(k) matchingDental insuranceHealth insurancePaid time offParental leaveVision insuranceSupplemental pay types:Bonus payCommission payWeekly day range:Monday to FridayWork setting:In-personOfficeWork Location: In person                                                                                                                                                                                                                                                                                                                                                                                                                                                                                                                                                                                                                                                                                                                                                                                                                                                                                                                                                                                                                                                                                                                                                                                                                                                                                                                                                                                                                                                                                                                                                                                                                                                                                                                                                                                                                                                                                                                                                                                                                                                                                                                                                                                                                                                                                                                                                                                                                                                                                                                                                                                                                                                                                                                                                                                                                                                                                                                                                                                                                                                                                                                                                                                                                                                                                                                                                                                                                                                        |\n",
            "|133114754 |Are you a dynamic and creative marketing professional looking to make a significant impact in the world of freight and logistics? We are seeking a talented Marketing Manager to join our team and drive our marketing initiatives to new heights. If you're passionate about shaping brand narratives, developing strategic campaigns, and thrive in a fast-paced environment, we want to hear from you!Key Responsibilities:Develop and execute comprehensive marketing strategies to enhance brand visibility and promote our freight and logistics services.Lead a team of marketing specialists, fostering collaboration and guiding their efforts towards achieving set goals.Analyze market trends, customer behavior, and competitor activity to identify growth opportunities and refine strategies.Manage the company's online presence, optimizing the website and social media channels for maximum engagement and conversions.Plan and oversee participation in industry events, conferences, and trade shows to showcase our services and network with potential clients.Measure and report on the performance of marketing campaigns, using data-driven insights to continuously improve strategies.Qualifications:Bachelor's degree in Marketing, Business, or a related field (Master's preferred).Proven experience (5+ years) in marketing, preferably within the freight and logistics industry or a related B2B field.Strong Customer Base and Running Business.Strong understanding of digital marketing tactics, including SEO, SEM, social media, and content marketing.Analytical mindset with proficiency in data analysis tools to drive informed marketing decisions.Excellent communication skills, both written and verbal, to craft compelling narratives and collaborate across teams.Ability to thrive in a fast-paced, ever-changing environment and adapt to industry shifts.Strong organizational skills and attention to detail, ensuring the flawless execution of marketing campaigns.Why Join Us:Opportunity to play a pivotal role in shaping the marketing strategies of a leading player in the freight and logistics industry.A collaborative and inclusive work environment that values innovation and continuous improvement.Competitive salary and benefits package.Room for growth and career advancement based on performance and results.Chance to work with a diverse team of professionals who are passionate about making a difference.If you're ready to take on a rewarding challenge in the world of freight and logistics marketing, we want to hear from you! Send your resume and a cover letter outlining your relevant experience to mitch@cargo-login.com. Join us in driving our brand forward and revolutionizing the way we approach marketing in this dynamic industry.                                                                                                                                                                                                                                                                                                                                                                                                                                                                                                                                                                                                                                                                                                                                                                                                                                                                                                                                                                                                                                                                                                                                                                                                                                                                                                                                                                                                                                                                                                                                                                                                                                                                                                                                                                                                                                                                                                                                                                                                                                                                                                                                                                                                                                                                                                                                                                                                                                                                                                                            |\n",
            "|133196985 |Join Us as a Model Risk Auditor – Showcase Your Financial Services Auditing Expertise!Are you an experienced financial services auditor with a passion for unraveling complexities? We're on the lookout for a Model Risk Auditor to join us and elevate our model risk management practices.\\nPosition Highlights:Location: New York, NY (Hybrid work arrangement)Duration: Approximately 10 weeks (3 months)Daily Rate: Competitive rate based on industry research\\nPosition Summary:As a Model Risk Auditor, you will be an integral part of our Model Risk Management (MRM) audit assignment. You will work closely with our Internal Audit team, following our established methodology to assess and evaluate the effectiveness of our model risk management framework. This includes areas such as Model Governance, Policies and Procedures, and key processes and controls in accordance with regulatory guidelines (SR 11-7).\\nKey Responsibilities:Collaborate with the lead auditor to plan and execute the MRM audit assignment.Assess the Branch's model risk management framework, evaluating its conceptual soundness and compliance with regulatory standards.Document work papers using standardized templates provided by the Internal Audit team.Identify and document model risk audit findings, substantiating them with relevant facts and evidence.Develop recommendations that address the root causes of identified issues.Provide regular project status updates to both the auditee and Internal Audit management.\\nQualifications & Skills:Previous experience in auditing within the financial services sector is essential.Preference will be given to candidates with experience in risk modeling and familiarity with SR 11-7 supervisory guidance.Strong documentation skills, with the ability to create well-structured work papers and reports.Excellent analytical and problem-solving abilities.Effective communication skills to interact with various stakeholders and present findings clearly..\\n\\n                                                                                                                                                                                                                                                                                                                                                                                                                                                                                                                                                                                                                                                                                                                                                                                                                                                                                                                                                                                                                                                                                                                                                                                                                                                                                                                                                                                                                                                                                                                                                                                                                                                                                                                                                                                                                                                                                                                                                                                                                                                                                                                                                                                                                                                                                                                                                                                                                                                                                                                                                                                                                                                                                                                                                                                                                                                                                                                                                                                                                                                                                                                                                                                                                                                                                                                       |\n",
            "|381055942 |Business ManagerFirst Baptist Church ForneyForney, Texas Reports to: Executive Pastor  Job Overview: The Business Manager maintains accurate accounting records, provides financial reports, and meets the human resource needs of the church.\\nMajor Duties and Responsibilities:\\nFinancial Responsibilities· Perform month end duties, which includes reconciliation of all bank accounts and credit cards, and month end journal entries· Collect and record all invoices and check requests into accounting software· Disburse all signed checks· Review and approve expenses on church credit cards· Manage and pay all church credit cards· Collect, record, and deposit Sunday offering for FBC Forney and FBCF En Español congregation· Record all online giving in accounting software· Record and deposit non-giving related income received from fitness center, day care, and coffee shop\\nHuman Resources· Perform payroll duties semi-monthly· Record payroll and employee benefit data as needed· Onboard new employees for all departments of the church\\nGeneral Duties:· Provide financial reports as needed · Maintain vendor files· Maintain personnel files of church staff· Maintain accurate accounting records· Provide ministries with monthly reports showing budget vs actuals · Prepare and distribute church member’s annual giving statements· Perform other duties and assignments as requested by the Executive Pastor.\\nQualifications:· High School Diploma or GED required· Bachelor's degree in Accounting, Finance, or related field and relevant work experience preferred· Thorough knowledge and understanding of GAAP· Strong communication and interpersonal skills, with the ability to work collaboratively with staff and leadership· Proficient skills in QuickBooks and Microsoft Excel· Experience with accounts payable, accounts receivable, payroll, and general ledger· High degree of accuracy and attention to detail· Ability to work independently and meet deadlines in a fast-paced environment· High ethical standards and integrity in handling financial information· Be a Christian of high moral character Systems Used:· QuickBooks Online· Microsoft Excel· Google Sheets· Rock RMS                                                                                                                                                                                                                                                                                                                                                                                                                                                                                                                                                                                                                                                                                                                                                                                                                                                                                                                                                                                                                                                                                                                                                                                                                                                                                                                                                                                                                                                                                                                                                                                                                                                                                                                                                                                                                                                                                                                                                                                                                                                                                                                                                                                                                                                                                                                                                                                                                                                                                                                                                                                                                                                                                                                                                                                                                                                                                                                                                                                                                                                                                                                |\n",
            "|529257371 |YOU COULD BE ONE OF THE MAGIC MAKERS\\nKen Fulk Inc. is seeking a Studio Assistant with a minimum of 2 years experience working as an administrative assistant for our New York studio.\\nREQUIREMENTS:\\n• Provide administrative support to the design team• Oversee planning and logistics associated with events and meetings• Manage and receive daily mail/deliveries/couriers• Serve as liaison for industry vendors and consultants• Greet, welcome, and provide hospitality to guests• Maintain studio organization, aesthetic, and cleanliness• Manage office opening and closing procedures daily• Maintain material library and work spaces• Strong verbal and written communications skills\\nQUALIFICATIONS:\\n• Bachelor’s Degree required• A minimum of two years of experience working as an administrative assistant required• Experience in the design or arts industry is preferred• Proficiency in Google Suite and Microsoft Office• Experience with Adobe InDesign• Articulate and polished written, verbal, and interpersonal communication skills• A keen eye and strong attention to detail• Organized with excellent follow-through skills• Able to work independently and also in a team environment• Able to multitask effectively and efficiently in a fast-paced environment• Proactive, resourceful, reliable, positive, and solution-minded individual• Demonstrated ability to quickly learn and master new software applications\\nPosition is full time and based in New York. Compensation based on experience. \\nKen Fulk Inc. offers health insurance, dental insurance option, vision insurance option, life insurance, pet insurance option, employee assistance program (Counseling & Support Resources), paid holiday Bbeak (Christmas Eve – New Years Day), 13 paid holidays, and matching 401k (5%).\\nPlease send cover letter and resume by e-mail in PDF format no larger than 10MB total to work@kenfulk.com with “NY Studio Assistant” in the subject line.\\n                                                                                                                                                                                                                                                                                                                                                                                                                                                                                                                                                                                                                                                                                                                                                                                                                                                                                                                                                                                                                                                                                                                                                                                                                                                                                                                                                                                                                                                                                                                                                                                                                                                                                                                                                                                                                                                                                                                                                                                                                                                                                                                                                                                                                                                                                                                                                                                                                                                                                                                                                                                                                                                                                                                                                                                                                                                                                                                                                                                                                                                                                                                                                                                                                                                                                                                                                             |\n",
            "|903408693 |Provide clerical and administrative support to management as requestedAnswer phone calls and perform higher-level data entry relating to Customer ServiceProcess larger, more complicated customer orders and complaints and follow-up when necessaryProcess customer accounts and file documentsFollow communication procedures, guidelines, and policies, taking the extra mile to engage larger, more complex customersProvide accurate and timely information including product costs and standard costs for new productsAnalyze manufacturing processes in coordination with Plant Managers to improve decision-makingAlign projects with various accounting and customer experience needsOther duties as needed\\n                                                                                                                                                                                                                                                                                                                                                                                                                                                                                                                                                                                                                                                                                                                                                                                                                                                                                                                                                                                                                                                                                                                                                                                                                                                                                                                                                                                                                                                                                                                                                                                                                                                                                                                                                                                                                                                                                                                                                                                                                                                                                                                                                                                                                                                                                                                                                                                                                                                                                                                                                                                                                                                                                                                                                                                                                                                                                                                                                                                                                                                                                                                                                                                                                                                                                                                                                                                                                                                                                                                                                                                                                                                                                                                                                                                                                                                                                                                                                                                                                                                                                                                                                                                                                                                                                                                                                                                                                                                                                                                                                                                                                                              |\n",
            "|967848246 |Company Snapshot Headquartered in North Miami, Paradigm Senior Services simplifies and streamlines operations for home care providers. By serving as a full back-office solution for home care providers, we support them in being able to focus their efforts on caring for their clients. Our team and service offerings are growing in a fast-paced environment. Paradigm Senior Services is an equal-opportunity employer. Job Summary The Manager of Education will serve as the program coordinator, trainer, and educational resource for all our existing customers. The ideal candidate will be passionate about developing creative and engaging training materials, thrives in a collaborative environment, constantly strives to improve learning and training materials, possesses a deep understanding of the Home Care industry, has a strong ability to conceptualize and develop training tools (videos, digital learning, training programs) for customers. This role will function as the liaison between franchise brands in the Home Care industry to deliver learning and development requirements to the brand. You will lead all Learning and Education initiatives to achieve the department and organization’s strategic and operational goals. Responsible for developing instructional strategies, course material, content course creation and assessment techniques. Reporting directly to the VP of Business Development, the Manager of Education will play a critical role in the growth and success of Paradigm Senior Services. Essential Duties & Responsibilities Develop comprehensive educational content and materials tailored to the specific needs of home care industry customers, ensuring alignment with industry best practices. Collaborate with cross-functional teams to curate content to meet training needs and learning objectives. Use adult learning principles for curricula, effective instructional design, and learning and training best practices in course material creation. Create, curate, and update course content within the Learning Management System (LMS), ensuring it is organized, accessible, and up to date for customers. Maintain and promote an organization-wide learning model. Prepare and host interactive webinars, workshops, and education sessions for Franchise Networks, providing expert insights, sharing industry trends, and facilitating Q&A sessions. Collaborate with subject matter experts, industry professionals, and internal stakeholders to stay current with industry developments and incorporate the latest information into training materials. Monitor and report on the progress and participation of Franchise Network providers in educational programs, tracking their development and identifying areas for improvement. Oversee LMS administration including licensing and procurement of all educational technology tools. Manage development of all processes related to use of the LMS. Audit and monitor data integrity. High degree of autonomy. Strategic and critical thinker with the ability to manage multiple priorities for multiple customers and meet deliverables on time, every time. Document all customer interactions and maintain an active list of strategic learning objectives for every customer utilizing Zoho CRM. Responsible for ongoing customer communication (announcements, upcoming service features, events, etc.). Qualifications Bachelor’s degree in education, business, healthcare or related field. A minimum of 3 years of experience in the Home Care Industry, with a deep understanding of industry trends, best practices, and regulations. Demonstrated ability to lead and manage training workshops required. Strong organizational skills with meticulous attention to detail. Strong project management skills, including the ability to coordinate workflow, determine priorities, meet deadlines, and effectively balance competing demands. Knowledge of instructional design methodology and adult learning concepts, principles, and practices with experience applying this knowledge to adult learners. Excellent written, oral, and interpersonal communication skills with the proven ability to prepare quality and accurate documentation. Quick learner and a self-starter; must thrive in a fast-paced, dynamic environment. Strong interpersonal skills, with an ability to professionally interact with a diverse blend of personalities to maintain strong relationships. Ability to demonstrate a positive attitude, energy, and effort consistently. Proficient in Microsoft Office, PowerPoint/Canva and CRM software. Innovative mindset, keeping up to date with emerging trends in adult education and eLearning. Strong analytical and problem-solving abilities, with the capacity to measure the impact and success of educational initiatives. Ability to work independently and as part of a team. Travel may be required to conduct on-site training sessions. Compensation $65,000-$80,000 base salary depending on experience Paradigm Benefits and Perks Medical, dental, and vision benefits Paid time off 401k retirement plan On-site position in Miami, FL with hybrid remote work opportunities available Support for professional growth and development   |\n",
            "|1004740969|We are a growing and successful Structural Engineering Design Firm Seeking an Entry Level candidate for a full time Auto CAD Designer / Drafter position. Experience is a plus.\\nWe are in need of someone that learns quickly, is detail oriented, and has great time management skills. Someone who is looking to constantly learn and grow within the company, stays on task, and is proactive.\\nKnowledge in wood framing design, wind lateral design, or material take-off is a plus. However, if you are proficient in either Auto CAD or REVIT we will/can provide on the job training.\\nRequired skills- MS Office proficiency- Auto Cad\\nAdditional skills that are a plus, but not required- Any structural experience- Revit- Familiarity with architectural floor plans\\nBenefits- Medical + vision Benefits- Life insurance- Paid holiday and vacation\\nPay is based on experience                                                                                                                                                                                                                                                                                                                                                                                                                                                                                                                                                                                                                                                                                                                                                                                                                                                                                                                                                                                                                                                                                                                                                                                                                                                                                                                                                                                                                                                                                                                                                                                                                                                                                                                                                                                                                                                                                                                                                                                                                                                                                                                                                                                                                                                                                                                                                                                                                                                                                                                                                                                                                                                                                                                                                                                                                                                                                                                                                                                                                                                                                                                                                                                                                                                                                                                                                                                                                                                                                                                                                                                                                                                                                                                                                                                                                                                                                                                                                                                                                                                                                                                                                                                                                                                                                                                                                                                                                                                                      |\n",
            "|1029078768|United Staffing Solutions is partnering with one of the biggest COVID vaccination clinics in the East Coast! We are currently hiring Registered Nurses (RN) to work as COVID vaccinators for either part-time or per diem. \\nJob Details:Must be a licensed Registered Nurse in the state of MichiganHeadquarters - Muskegon, MichiganTraveling is required (vehicle will be provided by the company; travel hours are paid)Pay is $50/hourNo vaccination experience needed\\nLimited slots only! If interested, please respond to this job post or you can directly reach out to me at shannel@unitedstaffing.com.                                                                                                                                                                                                                                                                                                                                                                                                                                                                                                                                                                                                                                                                                                                                                                                                                                                                                                                                                                                                                                                                                                                                                                                                                                                                                                                                                                                                                                                                                                                                                                                                                                                                                                                                                                                                                                                                                                                                                                                                                                                                                                                                                                                                                                                                                                                                                                                                                                                                                                                                                                                                                                                                                                                                                                                                                                                                                                                                                                                                                                                                                                                                                                                                                                                                                                                                                                                                                                                                                                                                                                                                                                                                                                                                                                                                                                                                                                                                                                                                                                                                                                                                                                                                                                                                                                                                                                                                                                                                                                                                                                                                                                                                                                                                                   |\n",
            "|1053342128|HVAC & Refrigeration technicians and helpers needed.Looking for someone that has experience in heating and ac work. Must be familiar with freon gauges, voltage meter and have basic problem-solving skills.                                                                                                                                                                                                                                                                                                                                                                                                                                                                                                                                                                                                                                                                                                                                                                                                                                                                                                                                                                                                                                                                                                                                                                                                                                                                                                                                                                                                                                                                                                                                                                                                                                                                                                                                                                                                                                                                                                                                                                                                                                                                                                                                                                                                                                                                                                                                                                                                                                                                                                                                                                                                                                                                                                                                                                                                                                                                                                                                                                                                                                                                                                                                                                                                                                                                                                                                                                                                                                                                                                                                                                                                                                                                                                                                                                                                                                                                                                                                                                                                                                                                                                                                                                                                                                                                                                                                                                                                                                                                                                                                                                                                                                                                                                                                                                                                                                                                                                                                                                                                                                                                                                                                                         |\n",
            "+----------+---------------------------------------------------------------------------------------------------------------------------------------------------------------------------------------------------------------------------------------------------------------------------------------------------------------------------------------------------------------------------------------------------------------------------------------------------------------------------------------------------------------------------------------------------------------------------------------------------------------------------------------------------------------------------------------------------------------------------------------------------------------------------------------------------------------------------------------------------------------------------------------------------------------------------------------------------------------------------------------------------------------------------------------------------------------------------------------------------------------------------------------------------------------------------------------------------------------------------------------------------------------------------------------------------------------------------------------------------------------------------------------------------------------------------------------------------------------------------------------------------------------------------------------------------------------------------------------------------------------------------------------------------------------------------------------------------------------------------------------------------------------------------------------------------------------------------------------------------------------------------------------------------------------------------------------------------------------------------------------------------------------------------------------------------------------------------------------------------------------------------------------------------------------------------------------------------------------------------------------------------------------------------------------------------------------------------------------------------------------------------------------------------------------------------------------------------------------------------------------------------------------------------------------------------------------------------------------------------------------------------------------------------------------------------------------------------------------------------------------------------------------------------------------------------------------------------------------------------------------------------------------------------------------------------------------------------------------------------------------------------------------------------------------------------------------------------------------------------------------------------------------------------------------------------------------------------------------------------------------------------------------------------------------------------------------------------------------------------------------------------------------------------------------------------------------------------------------------------------------------------------------------------------------------------------------------------------------------------------------------------------------------------------------------------------------------------------------------------------------------------------------------------------------------------------------------------------------------------------------------------------------------------------------------------------------------------------------------------------------------------------------------------------------------------------------------------------------------------------------------------------------------------------------------------------------------------------------------------------------------------------------------------------------------------------------------------------------------------------------------------------------------------------------------------------------------------------------------------------------------------------------------------------------------------------------------------------------------------------------------------------------------------------------------------------------------------------------------------------------------------------------------------------------------------------------------------------------------------------------------------------------------------------------------------------------------------------------------------------------------------------------------------------------------------------------------------------------------------------------------------------------------------------------------------------------------------------------------------------------------------------------------------------------------------------------------------------------------------------------------+\n",
            "only showing top 10 rows\n",
            "\n"
          ]
        }
      ]
    },
    {
      "cell_type": "markdown",
      "source": [
        "## Los tipos de datos en los dataSets"
      ],
      "metadata": {
        "id": "F2-pLs3nBMwa"
      }
    },
    {
      "cell_type": "code",
      "source": [
        "df_comp_industries.printSchema()\n",
        "df_comp_specialities.printSchema()\n",
        "df_emp_counts.printSchema()\n",
        "df_job_skills.printSchema()\n",
        "\n",
        "df_companies_parquet.printSchema()\n",
        "df_job_postings_parquet.printSchema()\n",
        "df_job_postings_descrip_parquet.printSchema()\n"
      ],
      "metadata": {
        "colab": {
          "base_uri": "https://localhost:8080/"
        },
        "id": "QOG7p2TfBJws",
        "outputId": "ee4b4ef8-3d58-4d92-e439-a5fa6ea98856"
      },
      "execution_count": null,
      "outputs": [
        {
          "output_type": "stream",
          "name": "stdout",
          "text": [
            "root\n",
            " |-- company_id: integer (nullable = true)\n",
            " |-- industry: string (nullable = true)\n",
            "\n",
            "root\n",
            " |-- company_id: integer (nullable = true)\n",
            " |-- speciality: string (nullable = true)\n",
            "\n",
            "root\n",
            " |-- company_id: integer (nullable = true)\n",
            " |-- employee_count: integer (nullable = true)\n",
            " |-- follower_count: integer (nullable = true)\n",
            " |-- time_recorded: integer (nullable = true)\n",
            "\n",
            "root\n",
            " |-- job_id: long (nullable = true)\n",
            " |-- skill_abr: string (nullable = true)\n",
            "\n",
            "root\n",
            " |-- company_id: long (nullable = true)\n",
            " |-- name: string (nullable = true)\n",
            " |-- description: string (nullable = true)\n",
            " |-- company_size: double (nullable = true)\n",
            " |-- state: string (nullable = true)\n",
            " |-- country: string (nullable = true)\n",
            " |-- city: string (nullable = true)\n",
            " |-- zip_code: string (nullable = true)\n",
            " |-- address: string (nullable = true)\n",
            " |-- url: string (nullable = true)\n",
            "\n",
            "root\n",
            " |-- job_id: integer (nullable = true)\n",
            " |-- company_id: integer (nullable = true)\n",
            " |-- title: string (nullable = true)\n",
            " |-- max_salary: integer (nullable = true)\n",
            " |-- med_salary: integer (nullable = true)\n",
            " |-- min_salary: integer (nullable = true)\n",
            " |-- pay_period: string (nullable = false)\n",
            " |-- formatted_work_type: string (nullable = true)\n",
            " |-- location: string (nullable = true)\n",
            " |-- applies: integer (nullable = true)\n",
            " |-- original_listed_time: double (nullable = true)\n",
            " |-- remote_allowed: boolean (nullable = false)\n",
            " |-- views: integer (nullable = true)\n",
            " |-- job_posting_url: string (nullable = true)\n",
            " |-- application_url: string (nullable = true)\n",
            " |-- application_type: string (nullable = true)\n",
            " |-- expiry: integer (nullable = true)\n",
            " |-- closed_time: double (nullable = true)\n",
            " |-- formatted_experience_level: string (nullable = false)\n",
            " |-- skills_desc: string (nullable = true)\n",
            " |-- listed_time: integer (nullable = true)\n",
            " |-- posting_domain: string (nullable = true)\n",
            " |-- sponsored: long (nullable = true)\n",
            " |-- work_type: string (nullable = true)\n",
            " |-- currency: string (nullable = true)\n",
            " |-- compensation_type: string (nullable = true)\n",
            "\n",
            "root\n",
            " |-- job_id: long (nullable = true)\n",
            " |-- description: string (nullable = true)\n",
            "\n"
          ]
        }
      ]
    },
    {
      "cell_type": "markdown",
      "source": [
        "## Busqueda de datos Nulos"
      ],
      "metadata": {
        "id": "-P1nBGvQA-TN"
      }
    },
    {
      "cell_type": "code",
      "source": [
        "df_comp_industries.select([func.count(func.when(func.isnan(c) | func.col(c).isNull(), c)).alias(c) for c in df_comp_industries.columns]).show()\n",
        "df_comp_specialities.select([func.count(func.when(func.isnan(c) | func.col(c).isNull(), c)).alias(c) for c in df_comp_specialities.columns]).show()\n",
        "df_emp_counts.select([func.count(func.when(func.isnan(c) | func.col(c).isNull(), c)).alias(c) for c in df_emp_counts.columns]).show()\n",
        "df_job_skills.select([func.count(func.when(func.isnan(c) | func.col(c).isNull(), c)).alias(c) for c in df_job_skills.columns]).show()\n",
        "\n",
        "df_companies_parquet.select([func.count(func.when(func.isnan(c) | func.col(c).isNull(), c)).alias(c) for c in df_companies_parquet.columns]).show()\n",
        "df_job_postings_parquet.select([func.count(func.when(func.isnan(c) | func.col(c).isNull(), c)).alias(c) for c in df_job_postings_parquet.columns]).show()\n",
        "df_job_postings_descrip_parquet.select([func.count(func.when(func.isnan(c) | func.col(c).isNull(), c)).alias(c) for c in df_job_postings_descrip_parquet.columns]).show()"
      ],
      "metadata": {
        "colab": {
          "base_uri": "https://localhost:8080/"
        },
        "id": "O1CPuc7EBCg1",
        "outputId": "93d93fd6-6c72-4765-d720-fd4229448fa1"
      },
      "execution_count": null,
      "outputs": [
        {
          "output_type": "stream",
          "name": "stdout",
          "text": [
            "+----------+--------+\n",
            "|company_id|industry|\n",
            "+----------+--------+\n",
            "|         0|       0|\n",
            "+----------+--------+\n",
            "\n",
            "+----------+----------+\n",
            "|company_id|speciality|\n",
            "+----------+----------+\n",
            "|         0|         0|\n",
            "+----------+----------+\n",
            "\n",
            "+----------+--------------+--------------+-------------+\n",
            "|company_id|employee_count|follower_count|time_recorded|\n",
            "+----------+--------------+--------------+-------------+\n",
            "|         0|             0|             0|            0|\n",
            "+----------+--------------+--------------+-------------+\n",
            "\n",
            "+------+---------+\n",
            "|job_id|skill_abr|\n",
            "+------+---------+\n",
            "|     0|        0|\n",
            "+------+---------+\n",
            "\n",
            "+----------+----+-----------+------------+-----+-------+----+--------+-------+---+\n",
            "|company_id|name|description|company_size|state|country|city|zip_code|address|url|\n",
            "+----------+----+-----------+------------+-----+-------+----+--------+-------+---+\n",
            "|         0|   0|         64|         589|    3|      0|   0|       8|      5|  0|\n",
            "+----------+----+-----------+------------+-----+-------+----+--------+-------+---+\n",
            "\n",
            "+------+----------+-----+----------+----------+----------+----------+-------------------+--------+-------+--------------------+--------------+-----+---------------+---------------+----------------+------+-----------+--------------------------+-----------+-----------+--------------+---------+---------+--------+-----------------+\n",
            "|job_id|company_id|title|max_salary|med_salary|min_salary|pay_period|formatted_work_type|location|applies|original_listed_time|remote_allowed|views|job_posting_url|application_url|application_type|expiry|closed_time|formatted_experience_level|skills_desc|listed_time|posting_domain|sponsored|work_type|currency|compensation_type|\n",
            "+------+----------+-----+----------+----------+----------+----------+-------------------+--------+-------+--------------------+--------------+-----+---------------+---------------+----------------+------+-----------+--------------------------+-----------+-----------+--------------+---------+---------+--------+-----------------+\n",
            "|     0|       366|    0|     10365|     14905|     10365|      9384|                  0|       0|   7186|                   0|         13546| 2763|              0|           6091|               0|     0|      14958|                      4902|      15742|          0|          6842|        0|        0|    9384|             9384|\n",
            "+------+----------+-----+----------+----------+----------+----------+-------------------+--------+-------+--------------------+--------------+-----+---------------+---------------+----------------+------+-----------+--------------------------+-----------+-----------+--------------+---------+---------+--------+-----------------+\n",
            "\n",
            "+------+-----------+\n",
            "|job_id|description|\n",
            "+------+-----------+\n",
            "|     0|          1|\n",
            "+------+-----------+\n",
            "\n"
          ]
        }
      ]
    },
    {
      "cell_type": "markdown",
      "source": [
        "# **Trabajare con dataSet df_job_postings_parquet**"
      ],
      "metadata": {
        "id": "EFYHRs71RcBC"
      }
    },
    {
      "cell_type": "markdown",
      "source": [
        "### Convertir tipo de datos"
      ],
      "metadata": {
        "id": "fAtVMfuUGeOz"
      }
    },
    {
      "cell_type": "code",
      "source": [
        "df_job_postings_parquet = df_job_postings_parquet.withColumn(\"min_salary\", func.col(\"min_salary\").cast(IntegerType()))\n",
        "df_job_postings_parquet = df_job_postings_parquet.withColumn(\"max_salary\", func.col(\"max_salary\").cast(IntegerType()))\n",
        "df_job_postings_parquet = df_job_postings_parquet.withColumn(\"med_salary\", func.col(\"med_salary\").cast(IntegerType()))\n",
        "df_job_postings_parquet = df_job_postings_parquet.withColumn(\"applies\", func.col(\"applies\").cast(IntegerType()))\n",
        "df_job_postings_parquet = df_job_postings_parquet.withColumn(\"views\", func.col(\"views\").cast(IntegerType()))\n",
        "df_job_postings_parquet = df_job_postings_parquet.withColumn(\"remote_allowed\", func.col(\"remote_allowed\").cast(BooleanType()))\n",
        "df_job_postings_parquet = df_job_postings_parquet.withColumn(\"job_id\", func.col(\"job_id\").cast(IntegerType()))\n",
        "df_job_postings_parquet = df_job_postings_parquet.withColumn(\"company_id\", func.col(\"company_id\").cast(IntegerType()))\n",
        "df_job_postings_parquet = df_job_postings_parquet.withColumn(\"expiry\", func.col(\"expiry\").cast(IntegerType()))\n",
        "df_job_postings_parquet = df_job_postings_parquet.withColumn(\"listed_time\", func.col(\"listed_time\").cast(IntegerType()))\n",
        "\n",
        "df_emp_counts = df_emp_counts.withColumn(\"time_recorded\", func.col(\"time_recorded\").cast(IntegerType()))\n",
        "\n"
      ],
      "metadata": {
        "id": "zvI6QOB2Gp8T"
      },
      "execution_count": null,
      "outputs": []
    },
    {
      "cell_type": "markdown",
      "source": [
        "### Tratamientos de valores nulos en Dataset df_job_postings_parquet"
      ],
      "metadata": {
        "id": "yAZlnQSZFh5g"
      }
    },
    {
      "cell_type": "code",
      "source": [
        "df_job_postings_parquet = df_job_postings_parquet.na.fill(value='MONTHLY', subset='pay_period')\n",
        "df_job_postings_parquet = df_job_postings_parquet.na.fill(value= 0, subset='max_salary')\n",
        "df_job_postings_parquet = df_job_postings_parquet.na.fill(value= 0, subset='med_salary')\n",
        "df_job_postings_parquet = df_job_postings_parquet.na.fill(value= 0, subset='min_salary')\n",
        "df_job_postings_parquet = df_job_postings_parquet.na.fill(value= 0, subset='company_id')\n",
        "df_job_postings_parquet = df_job_postings_parquet.na.fill(value= 0, subset='views')\n",
        "df_job_postings_parquet = df_job_postings_parquet.na.fill(value= 1, subset='applies')\n",
        "df_job_postings_parquet = df_job_postings_parquet.na.fill(value= 'Dont have', subset='posting_domain')\n",
        "df_job_postings_parquet = df_job_postings_parquet.na.fill(value= 'Senior level', subset='formatted_experience_level')\n",
        "df_job_postings_parquet = df_job_postings_parquet.na.fill(value= False, subset='remote_allowed')"
      ],
      "metadata": {
        "id": "42L-XTopGA_c"
      },
      "execution_count": null,
      "outputs": []
    },
    {
      "cell_type": "markdown",
      "source": [
        "### Manipulacion de fecha converirlo de int a fecha de DataSet df_emp_counts"
      ],
      "metadata": {
        "id": "kpYHEdK-q732"
      }
    },
    {
      "cell_type": "code",
      "source": [
        "df_emp_counts = df_emp_counts.withColumn(\"time_recorded\", func.to_date(func.from_unixtime(df_emp_counts[\"time_recorded\"])))"
      ],
      "metadata": {
        "id": "-qTzAROYpVCb"
      },
      "execution_count": null,
      "outputs": []
    },
    {
      "cell_type": "markdown",
      "source": [
        "### Agrupacion de cantidad de empleo por periodo"
      ],
      "metadata": {
        "id": "6WRDwcOqHPMg"
      }
    },
    {
      "cell_type": "code",
      "source": [
        "df_job_postings_parquet.groupBy('pay_period').count().show()"
      ],
      "metadata": {
        "colab": {
          "base_uri": "https://localhost:8080/"
        },
        "id": "zleRuDO0HPew",
        "outputId": "48f624b4-e888-4501-e7cb-7aa8f4c55611"
      },
      "execution_count": null,
      "outputs": [
        {
          "output_type": "stream",
          "name": "stdout",
          "text": [
            "+----------+-----+\n",
            "|pay_period|count|\n",
            "+----------+-----+\n",
            "|    HOURLY| 2464|\n",
            "|   MONTHLY| 9467|\n",
            "|    YEARLY| 3955|\n",
            "+----------+-----+\n",
            "\n"
          ]
        }
      ]
    },
    {
      "cell_type": "markdown",
      "source": [
        "### Cantidad de empleo por dia"
      ],
      "metadata": {
        "id": "6lp6SkT45JVm"
      }
    },
    {
      "cell_type": "code",
      "source": [
        "df_emp_counts.groupBy('time_recorded').count().show()"
      ],
      "metadata": {
        "colab": {
          "base_uri": "https://localhost:8080/"
        },
        "id": "KTbRdfA948KF",
        "outputId": "f1973bf2-7a0c-46a7-fe8f-bfca93a1ee86"
      },
      "execution_count": null,
      "outputs": [
        {
          "output_type": "stream",
          "name": "stdout",
          "text": [
            "+-------------+-----+\n",
            "|time_recorded|count|\n",
            "+-------------+-----+\n",
            "|   2023-08-23| 2766|\n",
            "|   2023-08-24|12728|\n",
            "|   2023-08-22|  327|\n",
            "|   2023-08-21|   86|\n",
            "+-------------+-----+\n",
            "\n"
          ]
        }
      ]
    },
    {
      "cell_type": "markdown",
      "source": [
        "### Borrar columna que no se necesita"
      ],
      "metadata": {
        "id": "JOVJIJX1O1_L"
      }
    },
    {
      "cell_type": "code",
      "source": [
        "df_job_postings_parquet = df_job_postings_parquet.drop('skills_desc', 'closed_time')"
      ],
      "metadata": {
        "id": "6KNaGmZ5Invm"
      },
      "execution_count": null,
      "outputs": []
    },
    {
      "cell_type": "markdown",
      "source": [
        "### Filtrar formato del tipo de trabajo con salario mayor a 40.000"
      ],
      "metadata": {
        "id": "qIQJuV-kRCQh"
      }
    },
    {
      "cell_type": "code",
      "source": [
        "df_job_postings_parquet.filter((func.col('max_salary') > 40000) & (func.col('formatted_work_type') ==  'Full-time')).show(10, truncate= False)"
      ],
      "metadata": {
        "colab": {
          "base_uri": "https://localhost:8080/"
        },
        "id": "ROPzKZIHNoFz",
        "outputId": "71e3b1d2-49fc-437a-96fe-35657d3118be"
      },
      "execution_count": null,
      "outputs": [
        {
          "output_type": "stream",
          "name": "stdout",
          "text": [
            "+-----------+----------+------------------------------------+----------+----------+----------+----------+-------------------+----------------------------+-------+--------------------+--------------+-----+---------------------------------------------------------------------+-----------------------------------------------------------------------------------------------------------------------------------------------------------------+------------------+----------+--------------------------+-----------+-------------------------------------+---------+---------+--------+-----------------+\n",
            "|job_id     |company_id|title                               |max_salary|med_salary|min_salary|pay_period|formatted_work_type|location                    |applies|original_listed_time|remote_allowed|views|job_posting_url                                                      |application_url                                                                                                                                                  |application_type  |expiry    |formatted_experience_level|listed_time|posting_domain                       |sponsored|work_type|currency|compensation_type|\n",
            "+-----------+----------+------------------------------------+----------+----------+----------+----------+-------------------+----------------------------+-------+--------------------+--------------+-----+---------------------------------------------------------------------+-----------------------------------------------------------------------------------------------------------------------------------------------------------------+------------------+----------+--------------------------+-----------+-------------------------------------+---------+---------+--------+-----------------+\n",
            "|85008768   |0         |Licensed Insurance Agent            |52000     |0         |45760     |YEARLY    |Full-time          |Chico, CA                   |1      |1.69E12             |false         |5    |https://www.linkedin.com/jobs/view/85008768/?trk=jobs_biz_prem_srch  |NULL                                                                                                                                                             |ComplexOnsiteApply|2147483647|Senior level              |2147483647 |Dont have                            |1        |FULL_TIME|USD     |BASE_SALARY      |\n",
            "|903408693  |3894635   |Office Associate                    |42000     |0         |37000     |YEARLY    |Full-time          |Albany, GA                  |5      |1.69E12             |false         |49   |https://www.linkedin.com/jobs/view/903408693/?trk=jobs_biz_prem_srch |NULL                                                                                                                                                             |ComplexOnsiteApply|2147483647|Senior level              |2147483647 |Dont have                            |1        |FULL_TIME|USD     |BASE_SALARY      |\n",
            "|-2146532710|2780388   |Manager, Salesforce Platform        |170976    |0         |98640     |YEARLY    |Full-time          |New Hampshire, United States|1      |1.69E12             |false         |0    |https://www.linkedin.com/jobs/view/2148434586/?trk=jobs_biz_prem_srch|https://invitationhomes.wd1.myworkdayjobs.com/INVH/job/Remote-Texas/Manager--Salesforce-Platform_R2392                                                           |OffsiteApply      |2147483647|Mid-Senior level          |2147483647 |invitationhomes.wd1.myworkdayjobs.com|0        |FULL_TIME|USD     |BASE_SALARY      |\n",
            "|-2146532571|13074     |Mental Health Professional          |79541     |0         |55280     |YEARLY    |Full-time          |Spokane, WA                 |1      |1.69E12             |false         |0    |https://www.linkedin.com/jobs/view/2148434725/?trk=jobs_biz_prem_srch|https://multicare.wd1.myworkdayjobs.com/multicare/job/Spokane-Washington/Mental-Health-Professional_JR1799?utm_souce=Linkedin_jobs&source=LinkedIn_corporate_page|OffsiteApply      |2147483647|Entry level               |2147483647 |multicare.wd1.myworkdayjobs.com      |0        |FULL_TIME|USD     |BASE_SALARY      |\n",
            "|-2146532570|13074     |Mental Health Professional          |79541     |0         |55280     |YEARLY    |Full-time          |Spokane, WA                 |1      |1.69E12             |false         |0    |https://www.linkedin.com/jobs/view/2148434726/?trk=jobs_biz_prem_srch|https://multicare.wd1.myworkdayjobs.com/multicare/job/Spokane-Washington/Mental-Health-Professional_JR1800?utm_souce=Linkedin_jobs&source=LinkedIn_corporate_page|OffsiteApply      |2147483647|Entry level               |2147483647 |multicare.wd1.myworkdayjobs.com      |0        |FULL_TIME|USD     |BASE_SALARY      |\n",
            "|-2146532387|6600327   |Clinic Managers - Physical Therapist|117510    |0         |91010     |YEARLY    |Full-time          |Puyallup, WA                |1      |1.69E12             |false         |0    |https://www.linkedin.com/jobs/view/2148434909/?trk=jobs_biz_prem_srch|https://www.applicantpro.com/openings/osstherapy/jobs/3031754-385762                                                                                             |OffsiteApply      |2147483647|Mid-Senior level          |2147483647 |www.applicantpro.com                 |0        |FULL_TIME|USD     |BASE_SALARY      |\n",
            "|-1645860696|10496448  |Lead Software Engineer              |190000    |0         |160000    |YEARLY    |Full-time          |United States               |1      |1.69E12             |true          |10   |https://www.linkedin.com/jobs/view/2649106600/?trk=jobs_biz_prem_srch|https://apply.workable.com/multimediallc/j/CF93077695/                                                                                                           |ComplexOnsiteApply|2147483647|Mid-Senior level          |2147483647 |Dont have                            |0        |FULL_TIME|USD     |BASE_SALARY      |\n",
            "|-1186930721|81922135  |General Manager                     |90309     |0         |82981     |YEARLY    |Full-time          |Greater Phoenix Area        |2      |1.69E12             |false         |32   |https://www.linkedin.com/jobs/view/3108036575/?trk=jobs_biz_prem_srch|NULL                                                                                                                                                             |ComplexOnsiteApply|2147483647|Senior level              |2147483647 |Dont have                            |0        |FULL_TIME|USD     |BASE_SALARY      |\n",
            "|-1051677370|62804     |Grants Manager                      |80000     |0         |77000     |YEARLY    |Full-time          |San Francisco, CA           |1      |1.69E12             |false         |31   |https://www.linkedin.com/jobs/view/3243289926/?trk=jobs_biz_prem_srch|https://compass-family-services.breezy.hr/p/70f98c253b3a-grants-manager/apply                                                                                    |OffsiteApply      |2147483647|Senior level              |2147483647 |Dont have                            |1        |FULL_TIME|USD     |BASE_SALARY      |\n",
            "|-981617526 |3149515   |Assistant Marketing Director        |45000     |0         |40000     |YEARLY    |Full-time          |Alexandria, VA              |3      |1.69E12             |false         |17   |https://www.linkedin.com/jobs/view/3313349770/?trk=jobs_biz_prem_srch|NULL                                                                                                                                                             |ComplexOnsiteApply|2147483647|Senior level              |2147483647 |Dont have                            |0        |FULL_TIME|USD     |BASE_SALARY      |\n",
            "+-----------+----------+------------------------------------+----------+----------+----------+----------+-------------------+----------------------------+-------+--------------------+--------------+-----+---------------------------------------------------------------------+-----------------------------------------------------------------------------------------------------------------------------------------------------------------+------------------+----------+--------------------------+-----------+-------------------------------------+---------+---------+--------+-----------------+\n",
            "only showing top 10 rows\n",
            "\n"
          ]
        }
      ]
    },
    {
      "cell_type": "code",
      "source": [
        "df_job_postings_parquet.groupBy('expiry').count().show()"
      ],
      "metadata": {
        "colab": {
          "base_uri": "https://localhost:8080/"
        },
        "id": "NPjzv150N4sf",
        "outputId": "66a31c4b-cc53-43c4-e780-a510209eae3e"
      },
      "execution_count": null,
      "outputs": [
        {
          "output_type": "stream",
          "name": "stdout",
          "text": [
            "+----------+-----+\n",
            "|    expiry|count|\n",
            "+----------+-----+\n",
            "|2147483647|15886|\n",
            "+----------+-----+\n",
            "\n"
          ]
        }
      ]
    },
    {
      "cell_type": "markdown",
      "source": [
        "### Cantidad de puesto por experiencia"
      ],
      "metadata": {
        "id": "MOcmWz2nPEiw"
      }
    },
    {
      "cell_type": "code",
      "source": [
        "df_job_postings_parquet.groupBy('formatted_experience_level').count().show()"
      ],
      "metadata": {
        "colab": {
          "base_uri": "https://localhost:8080/"
        },
        "id": "tx1-WPXyHwEl",
        "outputId": "69175e39-fc95-4953-9b9e-6d5400d9c33d"
      },
      "execution_count": null,
      "outputs": [
        {
          "output_type": "stream",
          "name": "stdout",
          "text": [
            "+--------------------------+-----+\n",
            "|formatted_experience_level|count|\n",
            "+--------------------------+-----+\n",
            "|                  Director|  687|\n",
            "|              Senior level| 4902|\n",
            "|                 Associate| 1220|\n",
            "|                 Executive|  134|\n",
            "|               Entry level| 3694|\n",
            "|          Mid-Senior level| 5083|\n",
            "|                Internship|  166|\n",
            "+--------------------------+-----+\n",
            "\n"
          ]
        }
      ]
    },
    {
      "cell_type": "markdown",
      "source": [
        "### Filtar en base a empleos que sea en localizacion de washington (WA)"
      ],
      "metadata": {
        "id": "Emuyx5zuWC0n"
      }
    },
    {
      "cell_type": "code",
      "source": [
        "df_job_postings_parquet.filter(func.col('location').endswith('WA')).show(10, truncate= False)"
      ],
      "metadata": {
        "colab": {
          "base_uri": "https://localhost:8080/"
        },
        "id": "Q-4FgqvcSYdn",
        "outputId": "a464058d-5a55-4403-81e0-d211df548c4b"
      },
      "execution_count": null,
      "outputs": [
        {
          "output_type": "stream",
          "name": "stdout",
          "text": [
            "+-----------+----------+---------------------------------------------------------+----------+----------+----------+----------+-------------------+--------------+-------+--------------------+--------------+-----+---------------------------------------------------------------------+-----------------------------------------------------------------------------------------------------------------------------------------------------------------------------+------------------+-------+-----------+--------------------------+-----------+-----------+-------------------------------+---------+---------+--------+-----------------+\n",
            "|job_id     |company_id|title                                                    |max_salary|med_salary|min_salary|pay_period|formatted_work_type|location      |applies|original_listed_time|remote_allowed|views|job_posting_url                                                      |application_url                                                                                                                                                              |application_type  |expiry |closed_time|formatted_experience_level|skills_desc|listed_time|posting_domain                 |sponsored|work_type|currency|compensation_type|\n",
            "+-----------+----------+---------------------------------------------------------+----------+----------+----------+----------+-------------------+--------------+-------+--------------------+--------------+-----+---------------------------------------------------------------------+-----------------------------------------------------------------------------------------------------------------------------------------------------------------------------+------------------+-------+-----------+--------------------------+-----------+-----------+-------------------------------+---------+---------+--------+-----------------+\n",
            "|-2146532571|13074     |Mental Health Professional                               |79541     |0         |55280     |YEARLY    |Full-time          |Spokane, WA   |1      |1.69E12             |false         |0    |https://www.linkedin.com/jobs/view/2148434725/?trk=jobs_biz_prem_srch|https://multicare.wd1.myworkdayjobs.com/multicare/job/Spokane-Washington/Mental-Health-Professional_JR1799?utm_souce=Linkedin_jobs&source=LinkedIn_corporate_page            |OffsiteApply      |1.7E12 |NULL       |Entry level               |NULL       |1.69E12    |multicare.wd1.myworkdayjobs.com|0        |FULL_TIME|USD     |BASE_SALARY      |\n",
            "|-2146532570|13074     |Mental Health Professional                               |79541     |0         |55280     |YEARLY    |Full-time          |Spokane, WA   |1      |1.69E12             |false         |0    |https://www.linkedin.com/jobs/view/2148434726/?trk=jobs_biz_prem_srch|https://multicare.wd1.myworkdayjobs.com/multicare/job/Spokane-Washington/Mental-Health-Professional_JR1800?utm_souce=Linkedin_jobs&source=LinkedIn_corporate_page            |OffsiteApply      |1.7E12 |NULL       |Entry level               |NULL       |1.69E12    |multicare.wd1.myworkdayjobs.com|0        |FULL_TIME|USD     |BASE_SALARY      |\n",
            "|-2146532387|6600327   |Clinic Managers - Physical Therapist                     |117510    |0         |91010     |YEARLY    |Full-time          |Puyallup, WA  |1      |1.69E12             |false         |0    |https://www.linkedin.com/jobs/view/2148434909/?trk=jobs_biz_prem_srch|https://www.applicantpro.com/openings/osstherapy/jobs/3031754-385762                                                                                                         |OffsiteApply      |1.7E12 |NULL       |Mid-Senior level          |NULL       |1.69E12    |www.applicantpro.com           |0        |FULL_TIME|USD     |BASE_SALARY      |\n",
            "|-899340856 |18192301  |Dietitian                                                |37        |0         |27        |HOURLY    |Full-time          |Arlington, WA |1      |1.69E12             |false         |19   |https://www.linkedin.com/jobs/view/3395626440/?trk=jobs_biz_prem_srch|NULL                                                                                                                                                                         |ComplexOnsiteApply|1.7E12 |NULL       |NULL                      |NULL       |1.69E12    |NULL                           |0        |FULL_TIME|USD     |BASE_SALARY      |\n",
            "|-651757734 |1981697   |Environmental Health & Safety (EHS) and Biosafety Officer|95500     |0         |78000     |YEARLY    |Full-time          |Seattle, WA   |9      |1.69E12             |false         |102  |https://www.linkedin.com/jobs/view/3643209562/?trk=jobs_biz_prem_srch|NULL                                                                                                                                                                         |ComplexOnsiteApply|1.71E12|NULL       |NULL                      |NULL       |1.69E12    |NULL                           |1        |FULL_TIME|USD     |BASE_SALARY      |\n",
            "|-604097145 |88171782  |Environment, Health and Safety Manager                   |115000    |0         |89949     |YEARLY    |Full-time          |Silverdale, WA|58     |1.69E12             |false         |319  |https://www.linkedin.com/jobs/view/3690870151/?trk=jobs_biz_prem_srch|NULL                                                                                                                                                                         |ComplexOnsiteApply|1.71E12|NULL       |NULL                      |NULL       |1.69E12    |NULL                           |0        |FULL_TIME|USD     |BASE_SALARY      |\n",
            "|-601926383 |2083295   |EVS Operator                                             |70000     |0         |59000     |YEARLY    |Full-time          |Seattle, WA   |9      |1.69E12             |false         |46   |https://www.linkedin.com/jobs/view/3693040913/?trk=jobs_biz_prem_srch|https://workforcenow.adp.com/mascsr/default/mdf/recruitment/recruitment.html?cid=ccca391e-2b18-4b08-bcff-cda5a973c32c&ccId=19000101_000001&jobId=452708&source=CC2&lang=en_US|OffsiteApply      |1.71E12|NULL       |NULL                      |NULL       |1.69E12    |NULL                           |1        |FULL_TIME|USD     |BASE_SALARY      |\n",
            "|-601925478 |332139    |Senior Mechanical Systems Engineer                       |0         |0         |0         |MONTHLY   |Contract           |Everett, WA   |1      |1.69E12             |false         |46   |https://www.linkedin.com/jobs/view/3693041818/?trk=jobs_biz_prem_srch|NULL                                                                                                                                                                         |ComplexOnsiteApply|1.7E12 |NULL       |Entry level               |NULL       |1.69E12    |NULL                           |0        |CONTRACT |NULL    |NULL             |\n",
            "|-601922945 |314772    |Executive Director                                       |110000    |0         |95000     |YEARLY    |Full-time          |Kirkland, WA  |5      |1.69E12             |false         |86   |https://www.linkedin.com/jobs/view/3693044351/?trk=jobs_biz_prem_srch|https://kirklandchamber.org/now-hiring-kirkland-chamber-executive-director/                                                                                                  |OffsiteApply      |1.7E12 |NULL       |NULL                      |NULL       |1.69E12    |NULL                           |0        |FULL_TIME|USD     |BASE_SALARY      |\n",
            "|-601922496 |1681      |User Experience Designer                                 |56        |0         |50        |HOURLY    |Full-time          |Seattle, WA   |49     |1.69E12             |false         |149  |https://www.linkedin.com/jobs/view/3693044800/?trk=jobs_biz_prem_srch|NULL                                                                                                                                                                         |ComplexOnsiteApply|1.7E12 |NULL       |Mid-Senior level          |NULL       |1.69E12    |NULL                           |0        |FULL_TIME|USD     |BASE_SALARY      |\n",
            "+-----------+----------+---------------------------------------------------------+----------+----------+----------+----------+-------------------+--------------+-------+--------------------+--------------+-----+---------------------------------------------------------------------+-----------------------------------------------------------------------------------------------------------------------------------------------------------------------------+------------------+-------+-----------+--------------------------+-----------+-----------+-------------------------------+---------+---------+--------+-----------------+\n",
            "only showing top 10 rows\n",
            "\n"
          ]
        }
      ]
    },
    {
      "cell_type": "markdown",
      "source": [
        "### Join de especialidades dependiendo la industria"
      ],
      "metadata": {
        "id": "j4t7rcmLWg3x"
      }
    },
    {
      "cell_type": "code",
      "source": [
        "df_comp_industries.join(df_comp_specialities, on='company_id', how='inner').show(10, truncate= False)"
      ],
      "metadata": {
        "colab": {
          "base_uri": "https://localhost:8080/"
        },
        "id": "4FNVvi4TWhUA",
        "outputId": "465a37e5-18f4-425d-c73f-9bdcd85bf6bb"
      },
      "execution_count": null,
      "outputs": [
        {
          "output_type": "stream",
          "name": "stdout",
          "text": [
            "+----------+---------------------------------+----------------------------+\n",
            "|company_id|industry                         |speciality                  |\n",
            "+----------+---------------------------------+----------------------------+\n",
            "|81149246  |Higher Education                 |Childrens Music Education   |\n",
            "|81149246  |Higher Education                 |Foundational Music Theory   |\n",
            "|81149246  |Higher Education                 |Child Music Lessons         |\n",
            "|81149246  |Higher Education                 |social emotional learning   |\n",
            "|81149246  |Higher Education                 |social emotional development|\n",
            "|81149246  |Higher Education                 |education                   |\n",
            "|81149246  |Higher Education                 |formative assessment        |\n",
            "|81149246  |Higher Education                 |expanded learning           |\n",
            "|81149246  |Higher Education                 |enrichment programs         |\n",
            "|10033339  |Information Technology & Services|SharePoint                  |\n",
            "+----------+---------------------------------+----------------------------+\n",
            "only showing top 10 rows\n",
            "\n"
          ]
        }
      ]
    },
    {
      "cell_type": "markdown",
      "source": [
        "### Join de industrias agrupados por cantidad de empleos"
      ],
      "metadata": {
        "id": "bPHr_1XxfNPT"
      }
    },
    {
      "cell_type": "code",
      "source": [
        "df_comp_industries.join(df_job_postings_parquet, df_comp_industries.company_id == df_job_postings_parquet.company_id).groupBy('industry').count().sort('industry').show(10, truncate= False)"
      ],
      "metadata": {
        "colab": {
          "base_uri": "https://localhost:8080/"
        },
        "id": "r4SxYToMfIvE",
        "outputId": "e7d0280e-1f30-4aff-eafb-a51ed14c529b"
      },
      "execution_count": null,
      "outputs": [
        {
          "output_type": "stream",
          "name": "stdout",
          "text": [
            "+-----------------------+-----+\n",
            "|industry               |count|\n",
            "+-----------------------+-----+\n",
            "|Accounting             |1182 |\n",
            "|Airlines/Aviation      |16   |\n",
            "|Alternative Medicine   |3    |\n",
            "|Animation              |1    |\n",
            "|Apparel & Fashion      |430  |\n",
            "|Architecture & Planning|119  |\n",
            "|Automotive             |973  |\n",
            "|Aviation & Aerospace   |342  |\n",
            "|Banking                |690  |\n",
            "|Biotechnology          |782  |\n",
            "+-----------------------+-----+\n",
            "only showing top 10 rows\n",
            "\n"
          ]
        }
      ]
    },
    {
      "cell_type": "markdown",
      "source": [
        "### Join de industrias agrupados en cantidad empleos enfocado en el titulo del mismo"
      ],
      "metadata": {
        "id": "1sYEOczXfIAE"
      }
    },
    {
      "cell_type": "code",
      "source": [
        "df_comp_industries.join(df_job_postings_parquet, df_comp_industries.company_id == df_job_postings_parquet.company_id).groupBy('industry', 'title').count().sort('industry').show(10, truncate= False)"
      ],
      "metadata": {
        "colab": {
          "base_uri": "https://localhost:8080/"
        },
        "id": "M9kaYC2pXQ1k",
        "outputId": "177757e9-6338-45d9-dffa-6e97b6af7aca"
      },
      "execution_count": null,
      "outputs": [
        {
          "output_type": "stream",
          "name": "stdout",
          "text": [
            "+----------+----------------------------------------------------------------+-----+\n",
            "|industry  |title                                                           |count|\n",
            "+----------+----------------------------------------------------------------+-----+\n",
            "|Accounting|Sourcer/Junior Recruiter                                        |1    |\n",
            "|Accounting|Trust Advisor - Intern (2024)                                   |30   |\n",
            "|Accounting|Senior Associate, Process Risk & Controls Consulting (Temporary)|24   |\n",
            "|Accounting|Senior Tax & Accounting Associate                               |1    |\n",
            "|Accounting|Accountant II                                                   |1    |\n",
            "|Accounting|Senior Tax Manager                                              |1    |\n",
            "|Accounting|Track - Leadership Program (2024)                               |15   |\n",
            "|Accounting|Bookkeeper                                                      |2    |\n",
            "|Accounting|BOOKKEEPER                                                      |1    |\n",
            "|Accounting|Accounting Manager - Project Accounting                         |3    |\n",
            "+----------+----------------------------------------------------------------+-----+\n",
            "only showing top 10 rows\n",
            "\n"
          ]
        }
      ]
    },
    {
      "cell_type": "markdown",
      "source": [
        "### Cantidad de empleos en base a industria y cargo por dia"
      ],
      "metadata": {
        "id": "uCa-HeLw5RDL"
      }
    },
    {
      "cell_type": "code",
      "source": [
        "df_emp_counts.join(df_job_postings_parquet, df_emp_counts.company_id == df_job_postings_parquet.company_id).join(df_comp_industries, df_comp_industries.company_id == df_emp_counts.company_id).groupBy('time_recorded','industry','title').count()alias().sort('time_recorded').show(20, truncate= False)\n"
      ],
      "metadata": {
        "colab": {
          "base_uri": "https://localhost:8080/"
        },
        "id": "BjHPcio1qzts",
        "outputId": "d2df20d9-d2bc-4c05-83d4-a93eea29acd8"
      },
      "execution_count": null,
      "outputs": [
        {
          "output_type": "stream",
          "name": "stdout",
          "text": [
            "+-------------+---------------------------------+---------------------------------------------------------+-----+\n",
            "|time_recorded|industry                         |title                                                    |count|\n",
            "+-------------+---------------------------------+---------------------------------------------------------+-----+\n",
            "|NULL         |Hospital & Health Care           |Bilingual Front Office Specialist - Seminary Clinic      |121  |\n",
            "|NULL         |Food & Beverages                 |Supervisor, Deductions                                   |1    |\n",
            "|NULL         |Chemicals                        |Reliability Engineer                                     |1    |\n",
            "|NULL         |Aviation & Aerospace             |Mechanical Designer II                                   |121  |\n",
            "|NULL         |Staffing & Recruiting            |Administrative Assistant – Investment Firm - $70K - $80K |169  |\n",
            "|NULL         |Information Technology & Services|Snowflake Architect with Snowflake Admin experience      |64   |\n",
            "|NULL         |Outsourcing/Offshoring           |Global Sales Director                                    |9    |\n",
            "|NULL         |Retail                           |Sales Associate PT                                       |1681 |\n",
            "|NULL         |Information Technology & Services|AWS DevOps Engineer                                      |1    |\n",
            "|NULL         |Computer Software                |Product Manager, Platform and System Integration         |4    |\n",
            "|NULL         |Information Technology & Services|Microsoft Power BI Developer                             |1    |\n",
            "|NULL         |Telecommunications               |Outside Sales Representative                             |2883 |\n",
            "|NULL         |Chemicals                        |Senior Maintenance Mechanic                              |1    |\n",
            "|NULL         |Law Practice                     |Paralegal                                                |6    |\n",
            "|NULL         |Retail                           |Regional Human Resources Manager                         |32   |\n",
            "|NULL         |Marketing & Advertising          |SVP, Group Director, Digital Strategy & Analytics        |4    |\n",
            "|NULL         |Information Technology & Services|SAP MM & WM Consultant                                   |1    |\n",
            "|NULL         |Transportation/Trucking/Railroad |Warehouse Receiver                                       |81   |\n",
            "|NULL         |Staffing & Recruiting            |Software Quality Engineer                                |4    |\n",
            "|NULL         |Railroad Manufacture             |Electronics Design Engineer – Mechanical Engineer        |64   |\n",
            "+-------------+---------------------------------+---------------------------------------------------------+-----+\n",
            "only showing top 20 rows\n",
            "\n"
          ]
        }
      ]
    }
  ]
}